{
  "cells": [
    {
      "cell_type": "markdown",
      "metadata": {
        "id": "i5re--UWKL1U"
      },
      "source": [
        "### Import packages"
      ]
    },
    {
      "cell_type": "code",
      "execution_count": 1,
      "metadata": {
        "id": "cLVTdi-cKL1Y"
      },
      "outputs": [],
      "source": [
        "# Importing the required packages\n",
        "import numpy as np\n",
        "import pandas as pd\n",
        "from sklearn.metrics import confusion_matrix\n",
        "from sklearn.model_selection import train_test_split\n",
        "from sklearn.tree import DecisionTreeClassifier\n",
        "from sklearn.metrics import accuracy_score\n",
        "from sklearn.metrics import classification_report\n",
        "from sklearn.model_selection import GridSearchCV\n",
        "from sklearn.model_selection import RandomizedSearchCV\n"
      ]
    },
    {
      "cell_type": "markdown",
      "metadata": {
        "id": "gGcQlTffKL1b"
      },
      "source": [
        "#### load Dataset and split into train and test "
      ]
    },
    {
      "cell_type": "code",
      "execution_count": 3,
      "metadata": {
        "colab": {
          "base_uri": "https://localhost:8080/"
        },
        "id": "xEI-Xg6WKL1c",
        "outputId": "6872eb2b-6adb-4178-9d4c-99231b06a8e2"
      },
      "outputs": [
        {
          "name": "stdout",
          "output_type": "stream",
          "text": [
            "<class 'pandas.core.frame.DataFrame'>\n",
            "RangeIndex: 83624 entries, 0 to 83623\n",
            "Data columns (total 27 columns):\n",
            " #   Column                               Non-Null Count  Dtype  \n",
            "---  ------                               --------------  -----  \n",
            " 0   Departure_FRA                        83624 non-null  float64\n",
            " 1   Departure_STN                        83624 non-null  float64\n",
            " 2   Departure_SXF                        83624 non-null  float64\n",
            " 3   Destination_FRA                      83624 non-null  float64\n",
            " 4   Destination_STN                      83624 non-null  float64\n",
            " 5   Destination_SXF                      83624 non-null  float64\n",
            " 6   Price_Dev_Cat_Falling                83624 non-null  float64\n",
            " 7   Price_Dev_Cat_Rising                 83624 non-null  float64\n",
            " 8   Price_Dev_Cat_Steady                 83624 non-null  float64\n",
            " 9   Price_In_Eur                         83624 non-null  float64\n",
            " 10  Price_Dev                            83624 non-null  float64\n",
            " 11  Price_Dev_Three_Days                 83624 non-null  float64\n",
            " 12  Same_Day_Request_route_Flight_price  83624 non-null  float64\n",
            " 13  Request_Month                        83624 non-null  int64  \n",
            " 14  Request_Time                         83624 non-null  int64  \n",
            " 15  Request_Day                          83624 non-null  float64\n",
            " 16  Flight_Day                           83624 non-null  float64\n",
            " 17  Departure_hour                       83624 non-null  int64  \n",
            " 18  Hours_to_Flight                      83624 non-null  int64  \n",
            " 19  Request_Count                        83624 non-null  float64\n",
            " 20  Request_Count_Sum                    83624 non-null  int64  \n",
            " 21  Last_Request_Bool                    83624 non-null  int64  \n",
            " 22  Is_Holiday_UK                        83624 non-null  int64  \n",
            " 23  Is_Holiday_GER                       83624 non-null  int64  \n",
            " 24  Is_School_Holiday_BER                83624 non-null  int64  \n",
            " 25  Is_School_Holiday_FRA                83624 non-null  int64  \n",
            " 26  Is_School_Holiday_UK                 83624 non-null  int64  \n",
            "dtypes: float64(16), int64(11)\n",
            "memory usage: 17.2 MB\n"
          ]
        }
      ],
      "source": [
        "# import dataset\n",
        "# one_hot_data = pd.read_csv(\"/content/drive/MyDrive/Colab Notebooks/Data Mining Gruppe A/train_set_ohe.csv\")\n",
        "one_hot_data = pd.read_csv(\"train_set_ohe.csv\")\n",
        "\n",
        "one_hot_data = one_hot_data[[\"Departure_FRA\", \"Departure_STN\", \"Departure_SXF\", \"Destination_FRA\", \"Destination_STN\", \"Destination_SXF\", \"Price_Dev_Cat_Falling\", \n",
        "                                  \"Price_Dev_Cat_Rising\", \"Price_Dev_Cat_Steady\", \"Price_In_Eur\",\n",
        "                                  \"Price_Dev\", \"Price_Dev_Three_Days\", \"Same_Day_Request_route_Flight_price\",\n",
        "                                  \"Request_Month\", \"Request_Time\", \"Request_Day\", \"Flight_Day\", \"Departure_hour\",\n",
        "                                  \"Hours_to_Flight\", \"Request_Count\", \"Request_Count_Sum\", \"Last_Request_Bool\", \"Is_Holiday_UK\", \"Is_Holiday_GER\",\n",
        "                                  \"Is_School_Holiday_BER\", \"Is_School_Holiday_FRA\", \"Is_School_Holiday_UK\", \"buy\"]]\n",
        "Y = np.array(one_hot_data[\"buy\"])\n",
        "X = one_hot_data.drop(\n",
        "    [\"buy\"], axis=1\n",
        ")\n",
        "X.info()\n",
        "# Splitting the dataset into train and test\n",
        "X_train, X_test, y_train, y_test = train_test_split(\n",
        "    X, Y, test_size=0.25, random_state=42, shuffle=True, stratify=Y\n",
        ")\n",
        "X = np.array(X)"
      ]
    },
    {
      "cell_type": "markdown",
      "metadata": {
        "id": "5ujs7RttKL1c"
      },
      "source": [
        "#### Functions"
      ]
    },
    {
      "cell_type": "code",
      "execution_count": 4,
      "metadata": {
        "id": "HJyGoRY8KL1d"
      },
      "outputs": [],
      "source": [
        "# Function to perform training with giniIndex.\n",
        "def train_using_gini(X_train, y_train):\n",
        "    # Creating the classifier object\n",
        "    clf_gini = DecisionTreeClassifier(max_depth=9,\n",
        "                                      max_features='auto',\n",
        "                                      min_samples_leaf=3,\n",
        "                                      min_samples_split=9,\n",
        "                                      random_state=42\n",
        "                                      )\n",
        "    # Performing training\n",
        "    clf_gini.fit(X_train, y_train)\n",
        "    return clf_gini\n",
        "\n",
        "\n",
        "# Function to perform training with entropy.\n",
        "def train_using_entropy(X_train, y_train):\n",
        "    # Decision tree with entropy\n",
        "    clf_entropy = DecisionTreeClassifier(\n",
        "        criterion=\"entropy\", random_state=100, max_depth=3, min_samples_leaf=5\n",
        "    )\n",
        "    # Performing training\n",
        "    clf_entropy.fit(X_train, y_train)\n",
        "    return clf_entropy\n",
        "\n",
        "\n",
        "# Function to make predictions\n",
        "def prediction(X_test, clf_object):\n",
        "    # Predicton on test with giniIndex\n",
        "    y_pred = clf_object.predict(X_test)\n",
        "    print(\"Predicted values:\")\n",
        "    print(y_pred)\n",
        "    return y_pred\n",
        "\n",
        "\n",
        "# Function to calculate accuracy\n",
        "def cal_accuracy(y_test, y_pred):\n",
        "    print(\"Confusion Matrix: \", confusion_matrix(y_test, y_pred))\n",
        "    print(\"Accuracy : \", accuracy_score(y_test, y_pred) * 100)\n",
        "    print(\"Report : \", classification_report(y_test, y_pred))\n"
      ]
    },
    {
      "cell_type": "markdown",
      "metadata": {
        "id": "Qn7QK-a-L6VC"
      },
      "source": [
        "#### Predict"
      ]
    },
    {
      "cell_type": "code",
      "execution_count": null,
      "metadata": {
        "colab": {
          "base_uri": "https://localhost:8080/"
        },
        "id": "JaoTkfuSKL1d",
        "outputId": "fbd300f5-6abc-4fc5-cc2b-48d077c89fe3"
      },
      "outputs": [
        {
          "name": "stdout",
          "output_type": "stream",
          "text": [
            "Results Using Gini Index:\n",
            "Predicted values:\n",
            "[0 0 1 ... 0 1 0]\n",
            "Confusion Matrix:  [[15664   563]\n",
            " [ 3494  1185]]\n",
            "Accuracy :  80.59408782167799\n",
            "Report :                precision    recall  f1-score   support\n",
            "\n",
            "           0       0.82      0.97      0.89     16227\n",
            "           1       0.68      0.25      0.37      4679\n",
            "\n",
            "    accuracy                           0.81     20906\n",
            "   macro avg       0.75      0.61      0.63     20906\n",
            "weighted avg       0.79      0.81      0.77     20906\n",
            "\n"
          ]
        }
      ],
      "source": [
        "# Build models\n",
        "clf_gini = train_using_gini(X_train, y_train)\n",
        "clf_entropy = train_using_entropy(X_train, y_train)\n",
        "\n",
        "# Prediction using gini\n",
        "print(\"Results Using Gini Index:\")\n",
        "y_pred_gini = prediction(X_test, clf_gini)\n",
        "cal_accuracy(y_test, y_pred_gini)\n",
        "\n",
        "# # Prediction using entropy\n",
        "# print(\"Results Using Entropy:\")\n",
        "# y_pred_entropy = prediction(X_test, clf_entropy)\n",
        "# cal_accuracy(y_test, y_pred_entropy)"
      ]
    },
    {
      "cell_type": "markdown",
      "metadata": {
        "id": "PdAu85d-KL1f"
      },
      "source": [
        "#### Tuning"
      ]
    },
    {
      "cell_type": "markdown",
      "metadata": {
        "id": "M7S4woFDicks"
      },
      "source": [
        "##### RandomizedSearch"
      ]
    },
    {
      "cell_type": "code",
      "execution_count": null,
      "metadata": {
        "colab": {
          "base_uri": "https://localhost:8080/"
        },
        "id": "FytYWJCKKL1f",
        "outputId": "8fa23564-6019-454f-b66b-1651e99355dc"
      },
      "outputs": [
        {
          "name": "stdout",
          "output_type": "stream",
          "text": [
            "Tuned Decision Tree Parameters: {'min_samples_split': 70, 'min_samples_leaf': 44, 'max_features': 'log2', 'max_depth': 23, 'criterion': 'gini'}\n",
            "Best score is 0.6261380294176667\n"
          ]
        }
      ],
      "source": [
        "# Setup the parameters and distributions to sample from: param_dist\n",
        "param_dist = {\n",
        "    \"criterion\": [\"gini\", \"entropy\"],\n",
        "    \"max_depth\": range(1, 100),\n",
        "    \"min_samples_split\": range(1, 100),\n",
        "    \"min_samples_leaf\": range(1, 50),\n",
        "    \"max_features\": [\"auto\", \"sqrt\", \"log2\"],\n",
        "}\n",
        "# Instantiate a Decision Tree classifier: tree\n",
        "tree = DecisionTreeClassifier(random_state=42)\n",
        "\n",
        "# Instantiate the RandomizedSearchCV object: tree_cv\n",
        "tree_cv = RandomizedSearchCV(tree, param_dist, cv=3)\n",
        "\n",
        "# Fit it to the data\n",
        "tree_cv.fit(X, Y)\n",
        "\n",
        "# Print the tuned parameters and score\n",
        "print(\"Tuned Decision Tree Parameters: {}\".format(tree_cv.best_params_))\n",
        "print(\"Best score is {}\".format(tree_cv.best_score_))\n"
      ]
    },
    {
      "cell_type": "code",
      "execution_count": null,
      "metadata": {
        "id": "KluqiVSkickt",
        "outputId": "c6538f26-9aaa-4a29-9a48-f88f5385bde5"
      },
      "outputs": [
        {
          "name": "stdout",
          "output_type": "stream",
          "text": [
            "Fitting 3 folds for each of 72 candidates, totalling 216 fits\n"
          ]
        },
        {
          "data": {
            "text/plain": [
              "DecisionTreeClassifier(max_depth=2, max_features='log2', min_samples_split=58,\n",
              "                       random_state=42)"
            ]
          },
          "execution_count": 19,
          "metadata": {},
          "output_type": "execute_result"
        }
      ],
      "source": [
        "# {'min_samples_split': 60, 'min_samples_leaf': 2, 'max_features': 'auto', 'max_depth': 3, 'criterion': 'gini'}\n",
        "params = {\n",
        "  \"criterion\":['gini', 'entropy'],\n",
        "  \"max_depth\":range(1,3),\n",
        "  \"min_samples_split\":range(58,61),\n",
        "  \"min_samples_leaf\":range(1,3),\n",
        "  \"max_features\": ['auto', 'sqrt', 'log2']\n",
        "}\n",
        "grid_random_search_cv = GridSearchCV(\n",
        "    DecisionTreeClassifier(random_state=42), params, verbose=1, cv=3, n_jobs=-1\n",
        ")\n",
        "grid_random_search_cv.fit(X_train, y_train)\n",
        "grid_random_search_cv.best_estimator_\n"
      ]
    },
    {
      "cell_type": "code",
      "execution_count": null,
      "metadata": {
        "id": "cFb8nI4wicku",
        "outputId": "ecb3fabc-eec8-4b14-cccd-a206afe2ae96"
      },
      "outputs": [
        {
          "data": {
            "text/plain": [
              "0.7798877515226889"
            ]
          },
          "execution_count": 20,
          "metadata": {},
          "output_type": "execute_result"
        }
      ],
      "source": [
        "grid_random_search_cv.best_score_\n"
      ]
    },
    {
      "cell_type": "markdown",
      "metadata": {
        "id": "bHwxQt7Aicku"
      },
      "source": [
        "##### GridSearch"
      ]
    },
    {
      "cell_type": "code",
      "execution_count": null,
      "metadata": {
        "colab": {
          "base_uri": "https://localhost:8080/",
          "height": 235
        },
        "id": "pBucQKoIY_oK",
        "outputId": "96a591c1-108f-47ce-d152-c20acb04221f"
      },
      "outputs": [
        {
          "name": "stdout",
          "output_type": "stream",
          "text": [
            "Fitting 3 folds for each of 1350000 candidates, totalling 4050000 fits\n"
          ]
        },
        {
          "data": {
            "text/plain": [
              "DecisionTreeClassifier(max_depth=28, max_features='auto', min_samples_leaf=10,\n",
              "                       min_samples_split=31, random_state=42)"
            ]
          },
          "execution_count": 4,
          "metadata": {},
          "output_type": "execute_result"
        }
      ],
      "source": [
        "params = {\n",
        "  \"criterion\":['gini', 'entropy'],\n",
        "  \"max_depth\":range(25,100),\n",
        "  \"min_samples_split\":range(25,100),\n",
        "  \"min_samples_leaf\":range(10,50),\n",
        "  \"max_features\": ['auto', 'sqrt', 'log2']\n",
        "}\n",
        "grid_search_cv = GridSearchCV(\n",
        "    DecisionTreeClassifier(random_state=42), params, verbose=1, cv=3, n_jobs=-1\n",
        ")\n",
        "grid_search_cv.fit(X_train, y_train)\n",
        "grid_search_cv.best_estimator_"
      ]
    },
    {
      "cell_type": "code",
      "execution_count": null,
      "metadata": {
        "colab": {
          "base_uri": "https://localhost:8080/"
        },
        "id": "XYr5VURNlqf3",
        "outputId": "84343fae-c7a6-4e69-9272-fd3ae1c95a46"
      },
      "outputs": [
        {
          "name": "stdout",
          "output_type": "stream",
          "text": [
            "Best Params: {'criterion': 'gini', 'max_depth': 28, 'max_features': 'auto', 'min_samples_leaf': 10, 'min_samples_split': 31}\n",
            "Best Score: 0.8272744666602888\n"
          ]
        }
      ],
      "source": [
        "print(f'Best Params: {grid_search_cv.best_params_}')\n",
        "print(f'Best Score: {grid_search_cv.best_score_}')\n"
      ]
    },
    {
      "cell_type": "markdown",
      "metadata": {
        "id": "OrJAeFQ7ickv"
      },
      "source": [
        "#### Monetäres Maß"
      ]
    },
    {
      "cell_type": "code",
      "execution_count": 5,
      "metadata": {
        "id": "eEJ-moFMickv"
      },
      "outputs": [],
      "source": [
        "# The model quality evaluation function expects a Pandas dataframe with at least the following columns:\n",
        "# Request_Date          int64\n",
        "# flight_unique_id     object\n",
        "# Price               float64\n",
        "# buy                    bool\n",
        "\n",
        "def model_quality_evaluation(df):\n",
        "    # Make a copy of the provided dataframe as to not modify the original.\n",
        "    df = df.copy()\n",
        "\n",
        "    # Convert 'Price' to whole cents and store as integers to avoid floating point errors.\n",
        "    df['Price'] = df['Price'] * 100\n",
        "    df['Price'] = df['Price'].astype(int)\n",
        "\n",
        "    # Initialize a variable that stores the sum of all our balances.\n",
        "    sum_balances = 0\n",
        "\n",
        "    # Get a list of all 'flight_unique_id'.\n",
        "    flight_unique_ids = df['flight_unique_id'].unique()\n",
        "\n",
        "    # Iterate over all 'flight_unique_id'.\n",
        "    for flight_unique_id in flight_unique_ids:\n",
        "        # Get a subset of the data for the specified 'flight_unique_id'.\n",
        "        df_subset = df[df['flight_unique_id'] == flight_unique_id]\n",
        "\n",
        "        # Get all request dates except for the latest request date before departure.\n",
        "        # At the latest request date before departure we need to buy a ticket anyway,\n",
        "        # so we don't care about this specific request date.\n",
        "        request_dates = df_subset[df_subset['Request_Date'] != df_subset['Request_Date'].max()]\n",
        "\n",
        "        # Make sure request dates are sorted in descending order.\n",
        "        request_dates.sort_values(by='Request_Date', ascending=False, inplace=True)\n",
        "\n",
        "        # Get the ticket price from the latest request date before departure,\n",
        "        # because we certainly have to buy a ticket at this date.\n",
        "        last_buying_price = df_subset[df_subset['Request_Date'] == df_subset['Request_Date'].max()]['Price'].values[0]\n",
        "\n",
        "        # Iterate over the remaining request dates\n",
        "        for _, row in request_dates.iterrows():\n",
        "            # and check wether the model wants to buy a ticket at the specific request date.\n",
        "            if(row['buy'] == 1):\n",
        "                # If the model decides to buy a ticket the last buying price is set to the\n",
        "                # price point of this request date and the balance doesn't change.\n",
        "                last_buying_price = row['Price']\n",
        "            else:\n",
        "                # If the models decides to not buy a ticket the balance equals the\n",
        "                # the current ticket price minus the last buying price.\n",
        "                current_price = row['Price']\n",
        "                balance = current_price - last_buying_price\n",
        "\n",
        "                # The balance is added to the sum of all balances.\n",
        "                sum_balances = sum_balances + balance\n",
        "\n",
        "    # Return the sum of all our previously calculated balances.\n",
        "    return sum_balances / 100"
      ]
    },
    {
      "cell_type": "code",
      "execution_count": null,
      "metadata": {
        "id": "Pek9vIrqickv",
        "outputId": "4606695e-3df6-49a9-ddb7-3005e40ea0c7"
      },
      "outputs": [
        {
          "data": {
            "text/plain": [
              "{'26,29,8': 2,\n",
              " '26,29,10': 2,\n",
              " '26,29,12': 2,\n",
              " '26,31,8': 2,\n",
              " '26,31,10': 2,\n",
              " '26,31,12': 2,\n",
              " '26,33,8': 2,\n",
              " '26,33,10': 2,\n",
              " '26,33,12': 2,\n",
              " '28,29,8': 2,\n",
              " '28,29,10': 2,\n",
              " '28,29,12': 2,\n",
              " '28,31,8': 2,\n",
              " '28,31,10': 2,\n",
              " '28,31,12': 2,\n",
              " '28,33,8': 2,\n",
              " '28,33,10': 2,\n",
              " '28,33,12': 2,\n",
              " '30,29,8': 2,\n",
              " '30,29,10': 2,\n",
              " '30,29,12': 2,\n",
              " '30,31,8': 2,\n",
              " '30,31,10': 2,\n",
              " '30,31,12': 2,\n",
              " '30,33,8': 2,\n",
              " '30,33,10': 2,\n",
              " '30,33,12': 2}"
            ]
          },
          "execution_count": 17,
          "metadata": {},
          "output_type": "execute_result"
        }
      ],
      "source": [
        "import itertools\n",
        "params = {\n",
        "    \"criterion\": \"gini\",\n",
        "    \"max_depth\": [26, 28, 30],\n",
        "    \"min_samples_split\": [29, 31, 33],\n",
        "    \"min_samples_leaf\": [8, 10, 12],\n",
        "    \"max_features\": \"auto\",\n",
        "}\n",
        "money_scores = {}\n",
        "for param in itertools.product(params[\"max_depth\"], params[\"min_samples_split\"], params[\"min_samples_leaf\"]):\n",
        "    money_scores[','.join(str(x) for x in param)] = 2\n",
        "\n",
        "\n",
        "money_scores"
      ]
    },
    {
      "cell_type": "code",
      "execution_count": null,
      "metadata": {
        "id": "tfa5rIYrickw"
      },
      "outputs": [],
      "source": [
        "from sklearn.model_selection import StratifiedKFold\n",
        "import itertools\n",
        "\n",
        "train_set_or = pd.read_csv(\"./train_set.csv\")\n",
        "train_set = pd.read_csv(\"./train_set_ohe.csv\")\n",
        "\n",
        "# Create StratifiedKFold object.\n",
        "skf = StratifiedKFold(n_splits=10, shuffle=True, random_state=1)\n",
        "combinations = {}\n",
        "\n",
        "#  {'criterion': 'gini', 'max_depth': 28, 'max_features': 'auto', 'min_samples_leaf': 10, 'min_samples_split': 31}\n",
        "params = {\n",
        "    \"criterion\": \"gini\",\n",
        "    \"max_depth\": [26, 28, 30],\n",
        "    \"min_samples_split\": [29, 31, 33],\n",
        "    \"min_samples_leaf\": [8, 10, 12],\n",
        "    \"max_features\": \"auto\",\n",
        "}\n",
        "\n",
        "for param in itertools.product(\n",
        "    params[\"max_depth\"], params[\"min_samples_split\"], params[\"min_samples_leaf\"]\n",
        "):\n",
        "    clf = DecisionTreeClassifier(\n",
        "        max_depth=param[0],\n",
        "        max_features=\"auto\",\n",
        "        min_samples_leaf=param[2],\n",
        "        min_samples_split=param[1],\n",
        "        random_state=42,\n",
        "    )\n",
        "    money_scores = []\n",
        "    # for each fold create a dataframe\n",
        "    for train_index, test_index in skf.split(X, Y):  # split() return index of each fold\n",
        "        # get each fold train, test fold with index index\n",
        "        x_train_fold, x_test_fold = X[train_index], X[test_index]\n",
        "        y_train_fold, y_test_fold = Y[train_index], Y[test_index]\n",
        "        clf.fit(x_train_fold, y_train_fold)\n",
        "        y_pred = clf.predict(x_test_fold)\n",
        "\n",
        "        X_train_1 = train_set_or.loc[test_index]\n",
        "        X_train_1 = X_train_1.reset_index(drop=True)\n",
        "        df = pd.DataFrame()\n",
        "        df[\"buy\"] = y_pred\n",
        "        df[\"flight_unique_id\"] = X_train_1[\"flight_unique_id\"]\n",
        "        df[\"Request_Date\"] = X_train_1[\"Request_Date\"]\n",
        "        df[\"Price\"] = X_train_1[\"Price_In_Eur\"]\n",
        "        # eval with custom func and append\n",
        "        score = model_quality_evaluation(df)\n",
        "        money_scores.append(score)\n",
        "\n",
        "    combinations[\",\".join(str(x) for x in param)] = money_scores\n",
        "\n",
        "# Print the output.\n",
        "# print(\"List of possible accuracy:\", money_scores)\n",
        "# print(\"\\nMaximum Money That can be obtained from this model is:\", max(money_scores))\n",
        "# print(\"\\nMinimum Money:\", min(money_scores))\n",
        "# print(\"\\nOverall Money:\", np.mean(money_scores))\n",
        "# print(\"\\nStandard Deviation is:\", np.std(money_scores))\n"
      ]
    },
    {
      "cell_type": "code",
      "execution_count": 55,
      "metadata": {
        "colab": {
          "base_uri": "https://localhost:8080/"
        },
        "id": "9Va9cccpickw",
        "outputId": "cadf0f20-a838-4d1d-e6c4-a6ff8d04a47a"
      },
      "outputs": [
        {
          "name": "stdout",
          "output_type": "stream",
          "text": [
            "Maximum Money That can be obtained from this model is: -126921.45\n",
            "\n",
            "Minimum Money: -182838.98\n",
            "\n",
            "Overall Money: -151745.4148888889\n",
            "\n",
            "Standard Deviation is: 10653.508223169449\n",
            "\n",
            "Params for Maximum Money: 30,33,8 (max_depth, min_samples_split, min_samples_leaf)\n",
            "\n",
            "All combinations: {'26,29,8': [-141908.32, -144875.44, -133809.2, -160021.22, -147499.31, -140524.27, -162148.0, -128831.55, -153823.88, -142543.14], '26,29,10': [-141077.83, -131269.85, -157569.98, -152051.14, -155063.89, -158908.51, -153746.57, -146288.2, -172579.48, -136411.4], '26,29,12': [-171095.7, -140120.58, -147523.94, -163015.84, -157059.84, -161196.93, -148619.28, -152445.71, -149698.23, -134088.68], '26,31,8': [-164278.01, -149991.78, -162421.65, -158715.63, -155817.18, -147987.52, -165817.92, -142641.2, -163755.57, -128869.33], '26,31,10': [-151686.13, -135388.15, -146168.21, -146838.06, -161462.25, -165438.0, -180108.64, -141426.5, -152404.26, -144365.3], '26,31,12': [-149087.44, -155257.45, -135373.96, -155683.03, -152552.58, -166459.83, -178040.44, -147508.03, -146816.65, -143062.39], '26,33,8': [-153373.27, -162425.42, -147977.49, -146580.81, -157169.03, -151418.53, -172099.61, -136795.09, -140622.41, -138639.91], '26,33,10': [-149642.02, -148038.5, -149330.45, -169298.54, -151790.68, -165575.33, -160958.71, -147941.04, -158172.13, -141175.01], '26,33,12': [-145208.81, -149986.22, -153552.51, -145561.83, -164706.83, -159824.66, -168785.67, -169406.87, -161400.42, -147105.09], '28,29,8': [-141125.33, -136626.03, -140506.6, -144352.02, -149487.88, -151821.34, -156960.37, -141788.12, -152390.94, -145046.96], '28,29,10': [-150862.59, -131269.85, -144962.78, -151339.23, -144753.8, -153815.77, -153572.06, -130371.06, -170899.45, -141380.1], '28,29,12': [-157288.38, -138971.12, -147523.94, -165400.59, -158487.87, -159985.11, -162180.71, -139824.37, -148253.64, -131399.28], '28,31,8': [-154850.33, -154580.41, -140529.29, -158715.63, -163643.48, -157449.42, -157133.65, -142641.2, -148683.52, -128972.0], '28,31,10': [-148922.84, -151617.36, -149976.98, -155300.48, -152310.07, -156382.81, -173044.03, -134675.57, -152707.11, -145962.0], '28,31,12': [-163068.12, -155504.12, -135373.96, -155331.06, -158382.14, -163357.61, -182838.98, -152077.56, -144801.77, -143062.39], '28,33,8': [-153373.27, -162425.42, -147977.49, -152781.47, -152370.15, -157351.14, -163250.47, -139726.33, -151121.84, -142002.62], '28,33,10': [-146667.69, -151596.76, -161202.56, -170498.43, -158717.09, -159948.82, -160959.48, -152444.19, -158172.13, -145061.67], '28,33,12': [-162492.91, -145272.86, -153552.51, -145892.89, -158133.6, -164727.95, -157851.16, -168372.39, -162673.38, -144259.75], '30,29,8': [-141125.33, -136626.03, -142252.69, -149482.08, -149765.79, -145171.61, -156960.37, -129379.29, -152390.94, -150394.21], '30,29,10': [-152853.18, -131269.85, -152449.41, -151339.23, -144753.8, -153815.77, -153572.06, -130371.06, -165709.94, -141380.1], '30,29,12': [-157288.38, -138971.12, -147523.94, -164415.65, -158487.87, -165369.32, -160614.68, -139824.37, -146344.01, -132112.82], '30,31,8': [-157097.28, -141505.25, -140529.29, -158715.63, -163643.48, -157449.42, -157133.65, -142641.2, -156389.54, -128972.0], '30,31,10': [-148922.84, -144735.9, -149976.98, -155062.82, -152310.07, -156382.81, -165398.64, -134675.57, -152707.11, -145962.0], '30,31,12': [-163068.12, -149180.19, -135373.96, -153390.41, -158382.14, -156566.09, -182838.98, -137668.64, -144801.77, -143062.39], '30,33,8': [-153373.27, -162425.42, -147977.49, -152781.47, -158631.41, -148058.95, -163250.47, -143570.88, -151121.84, -126921.45], '30,33,10': [-146667.69, -151596.76, -161202.56, -170498.43, -159651.56, -150781.87, -160958.71, -141476.44, -158172.13, -134445.65], '30,33,12': [-162492.91, -145272.86, -153552.51, -145892.89, -158133.6, -180398.64, -157851.16, -168372.39, -163688.3, -144259.75]}\n",
            "\n",
            "List of possible accuracy: [-141908.32, -144875.44, -133809.2, -160021.22, -147499.31, -140524.27, -162148.0, -128831.55, -153823.88, -142543.14, -141077.83, -131269.85, -157569.98, -152051.14, -155063.89, -158908.51, -153746.57, -146288.2, -172579.48, -136411.4, -171095.7, -140120.58, -147523.94, -163015.84, -157059.84, -161196.93, -148619.28, -152445.71, -149698.23, -134088.68, -164278.01, -149991.78, -162421.65, -158715.63, -155817.18, -147987.52, -165817.92, -142641.2, -163755.57, -128869.33, -151686.13, -135388.15, -146168.21, -146838.06, -161462.25, -165438.0, -180108.64, -141426.5, -152404.26, -144365.3, -149087.44, -155257.45, -135373.96, -155683.03, -152552.58, -166459.83, -178040.44, -147508.03, -146816.65, -143062.39, -153373.27, -162425.42, -147977.49, -146580.81, -157169.03, -151418.53, -172099.61, -136795.09, -140622.41, -138639.91, -149642.02, -148038.5, -149330.45, -169298.54, -151790.68, -165575.33, -160958.71, -147941.04, -158172.13, -141175.01, -145208.81, -149986.22, -153552.51, -145561.83, -164706.83, -159824.66, -168785.67, -169406.87, -161400.42, -147105.09, -141125.33, -136626.03, -140506.6, -144352.02, -149487.88, -151821.34, -156960.37, -141788.12, -152390.94, -145046.96, -150862.59, -131269.85, -144962.78, -151339.23, -144753.8, -153815.77, -153572.06, -130371.06, -170899.45, -141380.1, -157288.38, -138971.12, -147523.94, -165400.59, -158487.87, -159985.11, -162180.71, -139824.37, -148253.64, -131399.28, -154850.33, -154580.41, -140529.29, -158715.63, -163643.48, -157449.42, -157133.65, -142641.2, -148683.52, -128972.0, -148922.84, -151617.36, -149976.98, -155300.48, -152310.07, -156382.81, -173044.03, -134675.57, -152707.11, -145962.0, -163068.12, -155504.12, -135373.96, -155331.06, -158382.14, -163357.61, -182838.98, -152077.56, -144801.77, -143062.39, -153373.27, -162425.42, -147977.49, -152781.47, -152370.15, -157351.14, -163250.47, -139726.33, -151121.84, -142002.62, -146667.69, -151596.76, -161202.56, -170498.43, -158717.09, -159948.82, -160959.48, -152444.19, -158172.13, -145061.67, -162492.91, -145272.86, -153552.51, -145892.89, -158133.6, -164727.95, -157851.16, -168372.39, -162673.38, -144259.75, -141125.33, -136626.03, -142252.69, -149482.08, -149765.79, -145171.61, -156960.37, -129379.29, -152390.94, -150394.21, -152853.18, -131269.85, -152449.41, -151339.23, -144753.8, -153815.77, -153572.06, -130371.06, -165709.94, -141380.1, -157288.38, -138971.12, -147523.94, -164415.65, -158487.87, -165369.32, -160614.68, -139824.37, -146344.01, -132112.82, -157097.28, -141505.25, -140529.29, -158715.63, -163643.48, -157449.42, -157133.65, -142641.2, -156389.54, -128972.0, -148922.84, -144735.9, -149976.98, -155062.82, -152310.07, -156382.81, -165398.64, -134675.57, -152707.11, -145962.0, -163068.12, -149180.19, -135373.96, -153390.41, -158382.14, -156566.09, -182838.98, -137668.64, -144801.77, -143062.39, -153373.27, -162425.42, -147977.49, -152781.47, -158631.41, -148058.95, -163250.47, -143570.88, -151121.84, -126921.45, -146667.69, -151596.76, -161202.56, -170498.43, -159651.56, -150781.87, -160958.71, -141476.44, -158172.13, -134445.65, -162492.91, -145272.86, -153552.51, -145892.89, -158133.6, -180398.64, -157851.16, -168372.39, -163688.3, -144259.75]\n"
          ]
        }
      ],
      "source": [
        "first = True\n",
        "maxMoney = 0\n",
        "minMoney = 0\n",
        "maxParam = \"\"\n",
        "allMoney = []\n",
        "for key, value in combinations.items():\n",
        "  allMoney.extend(value)\n",
        "  if first:\n",
        "    maxMoney = max(value)\n",
        "    minMoney = min(value)\n",
        "    moneyParam = key\n",
        "    first = False\n",
        "  if max(value) > maxMoney:\n",
        "    maxMoney = max(value)\n",
        "    maxParam = key\n",
        "  if min(value) < minMoney:\n",
        "    minMoney = min(value)\n",
        "\n",
        "# Print the output.\n",
        "print(\"Maximum Money That can be obtained from this model is:\", maxMoney)\n",
        "print(\"\\nMinimum Money:\", minMoney)\n",
        "print(\"\\nOverall Money:\", np.mean(allMoney))\n",
        "print(\"\\nStandard Deviation is:\", np.std(allMoney))\n",
        "print(\"\\nParams for Maximum Money:\", maxParam, \"(max_depth, min_samples_split, min_samples_leaf)\")\n",
        "print(\"\\nAll combinations:\", combinations)\n",
        "print(\"\\nList of possible accuracy:\", allMoney)\n",
        "\n"
      ]
    },
    {
      "cell_type": "code",
      "execution_count": 8,
      "metadata": {},
      "outputs": [
        {
          "name": "stdout",
          "output_type": "stream",
          "text": [
            "Predicted values:\n",
            "[0 0 0 ... 0 1 0]\n"
          ]
        },
        {
          "data": {
            "text/plain": [
              "0.8298574571893237"
            ]
          },
          "execution_count": 8,
          "metadata": {},
          "output_type": "execute_result"
        }
      ],
      "source": [
        "params = {\n",
        "    \"criterion\": \"gini\",\n",
        "    \"max_depth\": 30,\n",
        "    \"min_samples_split\": 33,\n",
        "    \"min_samples_leaf\": 8,\n",
        "    \"max_features\": \"auto\",\n",
        "}\n",
        "\n",
        "tree_clf = DecisionTreeClassifier(\n",
        "    criterion=\"gini\",\n",
        "    max_depth=30,\n",
        "    min_samples_split=33,\n",
        "    min_samples_leaf=8,\n",
        "    max_features=\"auto\",\n",
        "    random_state=42\n",
        ")\n",
        "tree_clf.fit(X_train, y_train)\n",
        "y_pred_tree = prediction(X_test, tree_clf)\n",
        "accuracy_score(y_test, y_pred_tree)"
      ]
    }
  ],
  "metadata": {
    "colab": {
      "collapsed_sections": [],
      "name": "decision_tree.ipynb",
      "provenance": []
    },
    "interpreter": {
      "hash": "ab47cc3e39acd3a1c38e4b7336775fb75f63348ddd8662d599ef3019f5e51eea"
    },
    "kernelspec": {
      "display_name": "Python 3.10.2 ('.venv': venv)",
      "language": "python",
      "name": "python3"
    },
    "language_info": {
      "codemirror_mode": {
        "name": "ipython",
        "version": 3
      },
      "file_extension": ".py",
      "mimetype": "text/x-python",
      "name": "python",
      "nbconvert_exporter": "python",
      "pygments_lexer": "ipython3",
      "version": "3.10.2"
    }
  },
  "nbformat": 4,
  "nbformat_minor": 0
}
