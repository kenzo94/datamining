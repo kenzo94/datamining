{
 "cells": [
  {
   "cell_type": "code",
   "execution_count": 1,
   "id": "4a4f251c",
   "metadata": {},
   "outputs": [],
   "source": [
    "%config Completer.use_jedi = False"
   ]
  },
  {
   "cell_type": "markdown",
   "id": "b130eece",
   "metadata": {},
   "source": [
    "<font size=\"5\">\n",
    "    <b>\"Warten oder Kaufen\", Gruppe A mit logistischer Regression</b>\n",
    "</font>\n",
    "\n",
    "## Import von  Modulen\n"
   ]
  },
  {
   "cell_type": "code",
   "execution_count": 2,
   "id": "7fd68362",
   "metadata": {},
   "outputs": [],
   "source": [
    "# Importiere Module und Methoden\n",
    "#%matplotlib ipympl\n",
    "import pandas as pd\n",
    "import numpy as np\n",
    "import matplotlib.pyplot as plt \n",
    "\n",
    "from sklearn.linear_model import LogisticRegression\n",
    "from sklearn.model_selection import cross_val_score\n",
    "from sklearn.preprocessing import StandardScaler\n",
    "from sklearn.model_selection import train_test_split, StratifiedKFold"
   ]
  },
  {
   "cell_type": "markdown",
   "id": "f8d5d822",
   "metadata": {},
   "source": [
    "## Import der Daten\n",
    "\n",
    "Die Daten und Merkmale wurden im ersten Teil des Projektes bearbeitet. Hier werden diese Daten aus lokal gespeicherten CSV-Dateien geladen:"
   ]
  },
  {
   "cell_type": "code",
   "execution_count": 3,
   "id": "c5ed262f",
   "metadata": {
    "scrolled": true
   },
   "outputs": [
    {
     "name": "stdout",
     "output_type": "stream",
     "text": [
      "<class 'pandas.core.frame.DataFrame'>\n",
      "RangeIndex: 83624 entries, 0 to 83623\n",
      "Data columns (total 32 columns):\n",
      " #   Column                               Non-Null Count  Dtype  \n",
      "---  ------                               --------------  -----  \n",
      " 0   Departure_FRA                        83624 non-null  float64\n",
      " 1   Departure_STN                        83624 non-null  float64\n",
      " 2   Departure_SXF                        83624 non-null  float64\n",
      " 3   Destination_FRA                      83624 non-null  float64\n",
      " 4   Destination_STN                      83624 non-null  float64\n",
      " 5   Destination_SXF                      83624 non-null  float64\n",
      " 6   Price_Dev_Cat_Falling                83624 non-null  float64\n",
      " 7   Price_Dev_Cat_Rising                 83624 non-null  float64\n",
      " 8   Price_Dev_Cat_Steady                 83624 non-null  float64\n",
      " 9   Request_Day                          83624 non-null  float64\n",
      " 10  Flight_Day                           83624 non-null  float64\n",
      " 11  buy                                  83624 non-null  int64  \n",
      " 12  Price_In_Eur                         83624 non-null  float64\n",
      " 13  Price_Dev                            83624 non-null  float64\n",
      " 14  Price_Dev_Three_Days                 83624 non-null  float64\n",
      " 15  Request_Month                        83624 non-null  int64  \n",
      " 16  Request_Time                         83624 non-null  int64  \n",
      " 17  Last_Request_Bool                    83624 non-null  int64  \n",
      " 18  Departure_hour                       83624 non-null  int64  \n",
      " 19  Hours_to_Flight                      83624 non-null  int64  \n",
      " 20  Request_Count                        83624 non-null  float64\n",
      " 21  Request_Count_Sum                    83624 non-null  int64  \n",
      " 22  Same_Day_route_Flight                83624 non-null  object \n",
      " 23  Is_Holiday_UK                        83624 non-null  int64  \n",
      " 24  Is_Holiday_GER                       83624 non-null  int64  \n",
      " 25  Is_School_Holiday_BER                83624 non-null  int64  \n",
      " 26  Is_School_Holiday_FRA                83624 non-null  int64  \n",
      " 27  Is_School_Holiday_UK                 83624 non-null  int64  \n",
      " 28  flight_unique_id_same_flight_date    83624 non-null  object \n",
      " 29  Same_Day_Route_Flight_avg_price      83624 non-null  float64\n",
      " 30  Same_Day_Route_Flight_avg_price_utd  83624 non-null  float64\n",
      " 31  Same_Day_Request_route_Flight_price  83624 non-null  float64\n",
      "dtypes: float64(18), int64(12), object(2)\n",
      "memory usage: 20.4+ MB\n"
     ]
    }
   ],
   "source": [
    "#Read OHE Data shortcut\n",
    "train_set_orig = pd.read_csv(\"./train_set.csv\")\n",
    "train_set = pd.read_csv(\"./train_set_ohe.csv\")\n",
    "train_set.info()"
   ]
  },
  {
   "cell_type": "markdown",
   "id": "bac5af77",
   "metadata": {},
   "source": [
    "### Speichern der Merkmale im Dataframe - Erzeuge Trainings- und Testdatensatz mit train_test_split()"
   ]
  },
  {
   "cell_type": "code",
   "execution_count": 4,
   "id": "b88b792b",
   "metadata": {},
   "outputs": [],
   "source": [
    "customFeaturesDf = train_set[[\"Departure_FRA\", \"Departure_STN\", \"Departure_SXF\", \"Destination_FRA\",\n",
    "                              \"Destination_STN\", \"Destination_SXF\", \"Price_Dev_Cat_Falling\", \n",
    "                              \"Price_Dev_Cat_Rising\", \"Price_Dev_Cat_Steady\", \"Price_In_Eur\",\n",
    "                              \"Price_Dev\", \"Price_Dev_Three_Days\", \"Same_Day_Request_route_Flight_price\",\n",
    "                              \"Request_Month\", \"Request_Time\", \"Request_Day\", \"Flight_Day\", \"Departure_hour\",\n",
    "                              \"Hours_to_Flight\", \"Request_Count\", \"Request_Count_Sum\", \"Last_Request_Bool\",\n",
    "                              \"Is_Holiday_UK\", \"Is_Holiday_GER\",\n",
    "                              \"Is_School_Holiday_BER\", \"Is_School_Holiday_FRA\", \"Is_School_Holiday_UK\", \"buy\"]]"
   ]
  },
  {
   "cell_type": "code",
   "execution_count": 5,
   "id": "14fc9d2a",
   "metadata": {},
   "outputs": [
    {
     "name": "stdout",
     "output_type": "stream",
     "text": [
      "Shape of X_train: (66899, 27)\n",
      "Shape of X_test: (16725, 27)\n",
      "Shape of y_train: (66899,)\n",
      "Shape of y_test: (16725,) \n",
      "\n"
     ]
    }
   ],
   "source": [
    "X = customFeaturesDf.iloc[:,0:-1]\n",
    "y = customFeaturesDf.iloc[:,-1]\n",
    "X_train, X_test, y_train, y_test = train_test_split(X, y, test_size=0.20, random_state=42, stratify=y, shuffle=True)\n",
    "\n",
    "print(\"Shape of X_train:\", X_train.shape)\n",
    "print(\"Shape of X_test:\", X_test.shape)\n",
    "print(\"Shape of y_train:\", y_train.shape)\n",
    "print(\"Shape of y_test:\", y_test.shape, \"\\n\")"
   ]
  },
  {
   "cell_type": "markdown",
   "id": "223b35bb",
   "metadata": {},
   "source": [
    "### Standardisierung der Variance auf 1 um Rauschen in den Datensatz zu veringern und die Skalierung der Dimensionen zu vereinheitlichen.\n",
    "\n",
    "X_scale: Alle 21 Features"
   ]
  },
  {
   "cell_type": "code",
   "execution_count": 6,
   "id": "361d4661",
   "metadata": {},
   "outputs": [
    {
     "data": {
      "text/plain": [
       "array([1., 1., 1., 1., 1., 1., 1., 1., 1., 1., 1., 1., 1., 1., 1., 1., 1.,\n",
       "       1., 1., 1., 1., 1., 1., 1., 1., 1., 1.])"
      ]
     },
     "execution_count": 6,
     "metadata": {},
     "output_type": "execute_result"
    }
   ],
   "source": [
    "scaler = StandardScaler(with_mean=False)\n",
    "\n",
    "# scale variance to 1\n",
    "scaler.fit(X_train)\n",
    "X_train_scaled = scaler.transform(X_train)\n",
    "X_test_scaled = scaler.transform(X_test)\n",
    "X_train_scaled.std(axis=0)"
   ]
  },
  {
   "cell_type": "code",
   "execution_count": 7,
   "id": "584273ac",
   "metadata": {},
   "outputs": [
    {
     "data": {
      "text/plain": [
       "(66899, 27)"
      ]
     },
     "execution_count": 7,
     "metadata": {},
     "output_type": "execute_result"
    }
   ],
   "source": [
    "X_train_scaled.shape"
   ]
  },
  {
   "cell_type": "markdown",
   "id": "1f14d38d",
   "metadata": {},
   "source": [
    "## Hauptkomponentenanalyse (PCA): Reduzierung der Menge der Merkmale\n",
    "\n",
    "Aufgrund der Erkenntnisse, die aus der PCA gewonnen wurden (siehe oben bei SVM), werden hier zunächst die merkmalsreduzierten Trainingsdaten mit 18 von insgesamt 32 Merkmalen genutzt."
   ]
  },
  {
   "cell_type": "code",
   "execution_count": 8,
   "id": "8e215f33",
   "metadata": {},
   "outputs": [
    {
     "data": {
      "image/png": "[encoded data removed]",
      "text/plain": [
       "<Figure size 576x396 with 1 Axes>"
      ]
     },
     "metadata": {},
     "output_type": "display_data"
    }
   ],
   "source": [
    "# reduced featured space to 18 with PCA\n",
    "from yellowbrick.features import PCA\n",
    "\n",
    "pca = PCA(n_components=0.95)\n",
    "pca.fit(X_train_scaled) \n",
    "X_train_reduced = pca.transform(X_train_scaled)\n",
    "X_test_reduced = pca.transform(X_test_scaled)\n",
    "#X_train_reduced.shape"
   ]
  },
  {
   "cell_type": "markdown",
   "id": "94244159",
   "metadata": {},
   "source": [
    "## Training des Classifiers"
   ]
  },
  {
   "cell_type": "markdown",
   "id": "6950302a",
   "metadata": {},
   "source": [
    "### Training mit PCA-reduziertem Merkmalssatz"
   ]
  },
  {
   "cell_type": "code",
   "execution_count": 9,
   "id": "6fbc797c",
   "metadata": {},
   "outputs": [
    {
     "name": "stdout",
     "output_type": "stream",
     "text": [
      "Confusion Matrix, TrainSet:\n",
      " [[51924     1]\n",
      " [14972     2]]\n",
      "\n",
      "Classification Report:\n",
      "               precision    recall  f1-score   support\n",
      "\n",
      "           0      0.776     1.000     0.874     51925\n",
      "           1      0.667     0.000     0.000     14974\n",
      "\n",
      "    accuracy                          0.776     66899\n",
      "   macro avg      0.721     0.500     0.437     66899\n",
      "weighted avg      0.752     0.776     0.678     66899\n",
      "\n"
     ]
    }
   ],
   "source": [
    "# possible solvers are: 'liblinear', 'newton-cg', 'lbfgs', 'sag', 'saga'\n",
    "logReg_clf = LogisticRegression(random_state=42, solver=\"lbfgs\", max_iter=3000,penalty='l2').fit(X_train_reduced, y_train)\n",
    "\n",
    "X_train_reduced_scores = logReg_clf.predict(X_train_reduced)\n",
    "\n",
    "#Cobfusion Matrix\n",
    "from sklearn.metrics import confusion_matrix\n",
    "\n",
    "print(\"Confusion Matrix, TrainSet:\\n\",confusion_matrix(y_train, X_train_reduced_scores))\n",
    "\n",
    "#scores = cross_val_score(logReg_clf, X_train_reduced, y_train, cv=10, n_jobs=-1)\n",
    "\n",
    "#Classification report, recall_score, precision_score\n",
    "from sklearn.metrics import classification_report, recall_score, precision_score\n",
    "\n",
    "print(\"\\nClassification Report:\\n\",classification_report(y_train, X_train_reduced_scores,  digits=3))"
   ]
  },
  {
   "cell_type": "markdown",
   "id": "99837d4b",
   "metadata": {},
   "source": [
    "### Testen PCA-reduzierter Merkmalssatz mit eigenen Testdaten"
   ]
  },
  {
   "cell_type": "code",
   "execution_count": 10,
   "id": "b25eab7c",
   "metadata": {},
   "outputs": [
    {
     "name": "stdout",
     "output_type": "stream",
     "text": [
      "Confusion Matrix, TestSet:\n",
      " [[12980     1]\n",
      " [ 3744     0]]\n",
      "\n",
      "Classification Report:\n",
      "               precision    recall  f1-score   support\n",
      "\n",
      "           0      0.776     1.000     0.874     12981\n",
      "           1      0.000     0.000     0.000      3744\n",
      "\n",
      "    accuracy                          0.776     16725\n",
      "   macro avg      0.388     0.500     0.437     16725\n",
      "weighted avg      0.602     0.776     0.678     16725\n",
      "\n"
     ]
    }
   ],
   "source": [
    "X_test_reduced_scores = logReg_clf.predict(X_test_reduced)\n",
    "\n",
    "print(\"Confusion Matrix, TestSet:\\n\", confusion_matrix(y_test, X_test_reduced_scores))\n",
    "\n",
    "print(\"\\nClassification Report:\\n\",classification_report(y_test, X_test_reduced_scores, digits=3))"
   ]
  },
  {
   "cell_type": "markdown",
   "id": "35cfb8c9",
   "metadata": {},
   "source": [
    "### Training mit normalen Merkmalssatz, weil der PCA-reduzierte zu schlechte Ergebnisse abliefert"
   ]
  },
  {
   "cell_type": "code",
   "execution_count": 11,
   "id": "485b7b5b",
   "metadata": {},
   "outputs": [
    {
     "name": "stdout",
     "output_type": "stream",
     "text": [
      "Confusion Matrix, TrainSet:\n",
      " [[50272  1653]\n",
      " [11190  3784]]\n",
      "\n",
      "Classification Report:\n",
      "               precision    recall  f1-score   support\n",
      "\n",
      "           0      0.818     0.968     0.887     51925\n",
      "           1      0.696     0.253     0.371     14974\n",
      "\n",
      "    accuracy                          0.808     66899\n",
      "   macro avg      0.757     0.610     0.629     66899\n",
      "weighted avg      0.791     0.808     0.771     66899\n",
      "\n"
     ]
    }
   ],
   "source": [
    "# possible solvers are: 'liblinear', 'newton-cg', 'lbfgs', 'sag', 'saga'\n",
    "logReg_clf = LogisticRegression(random_state=42, solver=\"lbfgs\", max_iter=3000,penalty='l2').fit(X_train_scaled, y_train)\n",
    "\n",
    "X_train_scaled_scores = logReg_clf.predict(X_train_scaled)\n",
    "\n",
    "#Confusion Matrix\n",
    "print(\"Confusion Matrix, TrainSet:\\n\",confusion_matrix(y_train, X_train_scaled_scores))\n",
    "\n",
    "#classification report\n",
    "print(\"\\nClassification Report:\\n\",classification_report(y_train, X_train_scaled_scores, digits=3))"
   ]
  },
  {
   "cell_type": "code",
   "execution_count": 12,
   "id": "e57f7fca",
   "metadata": {},
   "outputs": [
    {
     "name": "stdout",
     "output_type": "stream",
     "text": [
      "Confusion Matrix, TestSet:\n",
      " [[12580   401]\n",
      " [ 2849   895]]\n",
      "\n",
      "Classification Report:\n",
      "               precision    recall  f1-score   support\n",
      "\n",
      "           0      0.815     0.969     0.886     12981\n",
      "           1      0.691     0.239     0.355      3744\n",
      "\n",
      "    accuracy                          0.806     16725\n",
      "   macro avg      0.753     0.604     0.620     16725\n",
      "weighted avg      0.787     0.806     0.767     16725\n",
      "\n"
     ]
    }
   ],
   "source": [
    "#Testdaten\n",
    "X_test_scaled_scores = logReg_clf.predict(X_test_scaled)\n",
    "\n",
    "print(\"Confusion Matrix, TestSet:\\n\", confusion_matrix(y_test, X_test_scaled_scores))\n",
    "\n",
    "\n",
    "#classification report\n",
    "print(\"\\nClassification Report:\\n\",classification_report(y_test,X_test_scaled_scores,  digits=3))"
   ]
  },
  {
   "cell_type": "markdown",
   "id": "94f43b6c",
   "metadata": {},
   "source": [
    "## Optimierung der Hyperparameter"
   ]
  },
  {
   "cell_type": "code",
   "execution_count": 13,
   "id": "f06545b3",
   "metadata": {},
   "outputs": [
    {
     "name": "stdout",
     "output_type": "stream",
     "text": [
      "tuned hpyerparameters :(best parameters)  {'C': 100000, 'penalty': 'l2'}\n",
      "accuracy : 0.8080091134162439\n",
      "Best parameters set found on X_train:\n",
      "\n",
      "{'C': 100000, 'penalty': 'l2'}\n",
      "\n",
      "Grid scores on train_set:\n",
      "\n",
      "0.776 (+/-0.000) for {'C': 1e-05, 'penalty': 'l2'}\n",
      "0.789 (+/-0.003) for {'C': 0.0001, 'penalty': 'l2'}\n",
      "0.806 (+/-0.007) for {'C': 0.001, 'penalty': 'l2'}\n",
      "0.808 (+/-0.007) for {'C': 0.01, 'penalty': 'l2'}\n",
      "0.808 (+/-0.007) for {'C': 0.1, 'penalty': 'l2'}\n",
      "0.808 (+/-0.007) for {'C': 1, 'penalty': 'l2'}\n",
      "0.808 (+/-0.007) for {'C': 100, 'penalty': 'l2'}\n",
      "0.808 (+/-0.007) for {'C': 10000, 'penalty': 'l2'}\n",
      "0.808 (+/-0.007) for {'C': 100000, 'penalty': 'l2'}\n",
      "0.808 (+/-0.007) for {'C': 1000000, 'penalty': 'l2'}\n",
      "0.808 (+/-0.007) for {'C': 10000000, 'penalty': 'l2'}\n",
      "0.808 (+/-0.007) for {'C': 100000000, 'penalty': 'l2'}\n"
     ]
    }
   ],
   "source": [
    "#LogREgression Optimierung des Hyperparameter\n",
    "# Grid search cross validation\n",
    "\n",
    "#Source: https://towardsdatascience.com/implement-logistic-regression-with-l2-regularization-from-scratch-\n",
    "#                in-python-20bd4ee88a59#4077\n",
    "#penalty : None or 'l2', default='l2'.\n",
    "#          Option to perform L2 regularization.\n",
    "#          C : float, default=0.1\n",
    "#          Inverse of regularization strength; must be a positive float. \n",
    "#          Smaller values specify stronger regularization.\n",
    "from sklearn.model_selection import GridSearchCV\n",
    "from sklearn.linear_model import LogisticRegression\n",
    "\n",
    "grid = {'C': [0.00001, 0.0001, 0.001, 0.01,0.1, 1, 100, 10000, 100000, 1000000, 10000000, 100000000], \"penalty\":[\"l2\"] }\n",
    "\n",
    "logReg_cv=GridSearchCV(logReg_clf,grid,cv=10)\n",
    "logReg_cv.fit(X_train_scaled,y_train)\n",
    "\n",
    "print(\"tuned hpyerparameters :(best parameters) \",logReg_cv.best_params_)\n",
    "print(\"accuracy :\",logReg_cv.best_score_)\n",
    "\n",
    "print(\"Best parameters set found on X_train:\")\n",
    "print()\n",
    "print(logReg_cv.best_params_)\n",
    "print()\n",
    "print(\"Grid scores on train_set:\")\n",
    "print()\n",
    "means = logReg_cv.cv_results_['mean_test_score']\n",
    "stds = logReg_cv.cv_results_['std_test_score']\n",
    "for mean, std, params in zip(means, stds, logReg_cv.cv_results_['params']):\n",
    "      print(\"%0.3f (+/-%0.03f) for %r\" % (mean, std * 2, params))"
   ]
  },
  {
   "cell_type": "code",
   "execution_count": 14,
   "id": "ac480836",
   "metadata": {},
   "outputs": [
    {
     "name": "stdout",
     "output_type": "stream",
     "text": [
      "tuned hpyerparameters :(best parameters)  {'C': 100000}\n",
      "accuracy : 0.8080091134162439\n",
      "Best parameters set found on X_train:\n",
      "\n",
      "{'C': 100000}\n",
      "\n",
      "Grid scores on train_set:\n",
      "\n",
      "0.776 (+/-0.000) for {'C': 1e-05}\n",
      "0.789 (+/-0.003) for {'C': 0.0001}\n",
      "0.806 (+/-0.007) for {'C': 0.001}\n",
      "0.808 (+/-0.007) for {'C': 0.01}\n",
      "0.808 (+/-0.007) for {'C': 0.1}\n",
      "0.808 (+/-0.007) for {'C': 1}\n",
      "0.808 (+/-0.007) for {'C': 10}\n",
      "0.808 (+/-0.007) for {'C': 10000}\n",
      "0.808 (+/-0.007) for {'C': 100000}\n",
      "0.808 (+/-0.007) for {'C': 1000000}\n"
     ]
    }
   ],
   "source": [
    "# ohne l2-Penalty\n",
    "grid = {'C': [0.00001, 0.0001, 0.001, 0.01,0.1, 1, 10, 10000, 100000, 1000000]}\n",
    "\n",
    "logReg_cv=GridSearchCV(logReg_clf,grid,cv=10)\n",
    "logReg_cv.fit(X_train_scaled,y_train)\n",
    "\n",
    "print(\"tuned hpyerparameters :(best parameters) \",logReg_cv.best_params_)\n",
    "print(\"accuracy :\",logReg_cv.best_score_)\n",
    "\n",
    "print(\"Best parameters set found on X_train:\")\n",
    "print()\n",
    "print(logReg_cv.best_params_)\n",
    "print()\n",
    "print(\"Grid scores on train_set:\")\n",
    "print()\n",
    "means = logReg_cv.cv_results_['mean_test_score']\n",
    "stds = logReg_cv.cv_results_['std_test_score']\n",
    "for mean, std, params in zip(means, stds, logReg_cv.cv_results_['params']):\n",
    "      print(\"%0.3f (+/-%0.03f) for %r\" % (mean, std * 2, params))"
   ]
  },
  {
   "cell_type": "markdown",
   "id": "d5c5aad2",
   "metadata": {},
   "source": [
    "Es macht offensichtlich keinen Unterschied, ob für den Paramter 'C' ein Wert von 100.000, oder ob der 'default'-Wert 'C=1' gewählt wird. An dem Ergebnis ändert dies nichts. Im weiteren wird als der Parameter 'C=1' gewählt."
   ]
  },
  {
   "cell_type": "markdown",
   "id": "57448824",
   "metadata": {},
   "source": [
    "## Bewertung mit monetärem Maß"
   ]
  },
  {
   "cell_type": "markdown",
   "id": "63e4e275",
   "metadata": {},
   "source": [
    "### Import der Methode und Skalieren der Daten"
   ]
  },
  {
   "cell_type": "code",
   "execution_count": 15,
   "id": "d2d79c25",
   "metadata": {},
   "outputs": [],
   "source": [
    "# The model quality evaluation function expects a Pandas dataframe with at least the following columns:\n",
    "# Request_Date          int64\n",
    "# flight_unique_id     object\n",
    "# Price               float64\n",
    "# buy                    bool\n",
    "\n",
    "def model_quality_evaluation(df):\n",
    "    # Make a copy of the provided dataframe as to not modify the original.\n",
    "    df = df.copy()\n",
    "\n",
    "    # Convert 'Price' to whole cents and store as integers to avoid floating point errors.\n",
    "    df['Price'] = df['Price'] * 100\n",
    "    df['Price'] = df['Price'].astype(int)\n",
    "\n",
    "    # Initialize a variable that stores the sum of all our balances.\n",
    "    sum_balances = 0\n",
    "\n",
    "    # Get a list of all 'flight_unique_id'.\n",
    "    flight_unique_ids = df['flight_unique_id'].unique()\n",
    "\n",
    "    # Iterate over all 'flight_unique_id'.\n",
    "    for flight_unique_id in flight_unique_ids:\n",
    "        # Get a subset of the data for the specified 'flight_unique_id'.\n",
    "        df_subset = df[df['flight_unique_id'] == flight_unique_id]\n",
    "\n",
    "        # Get all request dates except for the latest request date before departure.\n",
    "        # At the latest request date before departure we need to buy a ticket anyway,\n",
    "        # so we don't care about this specific request date.\n",
    "        request_dates = df_subset[df_subset['Request_Date'] != df_subset['Request_Date'].max()]\n",
    "\n",
    "        # Make sure request dates are sorted in descending order.\n",
    "        request_dates.sort_values(by='Request_Date', ascending=False, inplace=True)\n",
    "\n",
    "        # Get the ticket price from the latest request date before departure,\n",
    "        # because we certainly have to buy a ticket at this date.\n",
    "        last_buying_price = df_subset[df_subset['Request_Date'] == df_subset['Request_Date'].max()]['Price'].values[0]\n",
    "\n",
    "        # Iterate over the remaining request dates\n",
    "        for _, row in request_dates.iterrows():\n",
    "            # and check wether the model wants to buy a ticket at the specific request date.\n",
    "            if(row['buy'] == 1):\n",
    "                # If the model decides to buy a ticket the last buying price is set to the\n",
    "                # price point of this request date and the balance doesn't change.\n",
    "                last_buying_price = row['Price']\n",
    "            else:\n",
    "                # If the models decides to not buy a ticket the balance equals the\n",
    "                # the current ticket price minus the last buying price.\n",
    "                current_price = row['Price']\n",
    "                balance = current_price - last_buying_price\n",
    "\n",
    "                # The balance is added to the sum of all balances.\n",
    "                sum_balances = sum_balances + balance\n",
    "\n",
    "    # Return the sum of all our previously calculated balances.\n",
    "    return sum_balances / 100"
   ]
  },
  {
   "cell_type": "code",
   "execution_count": 16,
   "id": "48cb8c07",
   "metadata": {},
   "outputs": [
    {
     "data": {
      "text/plain": [
       "array([1., 1., 1., 1., 1., 1., 1., 1., 1., 1., 1., 1., 1., 1., 1., 1., 1.,\n",
       "       1., 1., 1., 1., 1., 1., 1., 1., 1., 1.])"
      ]
     },
     "execution_count": 16,
     "metadata": {},
     "output_type": "execute_result"
    }
   ],
   "source": [
    "X = customFeaturesDf.iloc[:,0:-1]\n",
    "y = customFeaturesDf.iloc[:,-1]\n",
    "scaler = StandardScaler(with_mean=False)\n",
    "\n",
    "# scale variance to 1\n",
    "scaler.fit(X)\n",
    "X_scaled = scaler.transform(X)\n",
    "X_scaled.std(axis=0)"
   ]
  },
  {
   "cell_type": "markdown",
   "id": "54ca0e71",
   "metadata": {},
   "source": [
    "### Eigentliche monetäre Bewertung"
   ]
  },
  {
   "cell_type": "code",
   "execution_count": 17,
   "id": "829f78b3",
   "metadata": {},
   "outputs": [
    {
     "name": "stderr",
     "output_type": "stream",
     "text": [
      "/tmp/ipykernel_10069/4028796872.py:32: SettingWithCopyWarning: \n",
      "A value is trying to be set on a copy of a slice from a DataFrame\n",
      "\n",
      "See the caveats in the documentation: https://pandas.pydata.org/pandas-docs/stable/user_guide/indexing.html#returning-a-view-versus-a-copy\n",
      "  request_dates.sort_values(by='Request_Date', ascending=False, inplace=True)\n",
      "/tmp/ipykernel_10069/4028796872.py:32: SettingWithCopyWarning: \n",
      "A value is trying to be set on a copy of a slice from a DataFrame\n",
      "\n",
      "See the caveats in the documentation: https://pandas.pydata.org/pandas-docs/stable/user_guide/indexing.html#returning-a-view-versus-a-copy\n",
      "  request_dates.sort_values(by='Request_Date', ascending=False, inplace=True)\n",
      "/tmp/ipykernel_10069/4028796872.py:32: SettingWithCopyWarning: \n",
      "A value is trying to be set on a copy of a slice from a DataFrame\n",
      "\n",
      "See the caveats in the documentation: https://pandas.pydata.org/pandas-docs/stable/user_guide/indexing.html#returning-a-view-versus-a-copy\n",
      "  request_dates.sort_values(by='Request_Date', ascending=False, inplace=True)\n",
      "/tmp/ipykernel_10069/4028796872.py:32: SettingWithCopyWarning: \n",
      "A value is trying to be set on a copy of a slice from a DataFrame\n",
      "\n",
      "See the caveats in the documentation: https://pandas.pydata.org/pandas-docs/stable/user_guide/indexing.html#returning-a-view-versus-a-copy\n",
      "  request_dates.sort_values(by='Request_Date', ascending=False, inplace=True)\n",
      "/tmp/ipykernel_10069/4028796872.py:32: SettingWithCopyWarning: \n",
      "A value is trying to be set on a copy of a slice from a DataFrame\n",
      "\n",
      "See the caveats in the documentation: https://pandas.pydata.org/pandas-docs/stable/user_guide/indexing.html#returning-a-view-versus-a-copy\n",
      "  request_dates.sort_values(by='Request_Date', ascending=False, inplace=True)\n"
     ]
    },
    {
     "name": "stdout",
     "output_type": "stream",
     "text": [
      "List of possible money scores: [-467308.16, -481619.0, -494242.81, -498824.5, -503630.01]\n",
      "\n",
      "Mean Money: -489124.896\n",
      "\n",
      "Standard Deviation is: 13137.595960279197\n"
     ]
    }
   ],
   "source": [
    "logReg_clf02 = LogisticRegression(C=1, random_state=42, solver=\"lbfgs\", max_iter=3000)\n",
    "\n",
    "# Create StratifiedKFold object.\n",
    "skf = StratifiedKFold(n_splits=5, shuffle=True, random_state=42)\n",
    "money_scores = []\n",
    "\n",
    "# for each fold create a dataframe\n",
    "for train_index, test_index in skf.split(X_scaled, y): # split() return index of each fold\n",
    "\t# get each fold train, test fold with index index \n",
    "\tx_train_fold, x_test_fold = X_scaled[train_index], X_scaled[test_index]\n",
    "\ty_train_fold, y_test_fold = y[train_index], y[test_index]\n",
    "\tlogReg_clf02.fit(x_train_fold, y_train_fold)\n",
    "\ty_pred = logReg_clf02.predict(x_test_fold)\n",
    "\t\n",
    "\t# make test df to evaluate\n",
    "\tX_train_1 = train_set_orig.loc[test_index]\n",
    "\tdf = pd.DataFrame(x_test_fold, index=test_index)\n",
    "\tdf[\"buy\"] = y_pred\n",
    "\tdf[\"flight_unique_id\"] = X_train_1[\"flight_unique_id\"]\n",
    "\tdf[\"Request_Date\"] = X_train_1[\"Request_Date\"]\n",
    "\tdf[\"Price\"] = X_train_1[\"Price_In_Eur\"]\n",
    " \n",
    "\t# eval with custom func and append\n",
    "\tscore = model_quality_evaluation(df)\n",
    "\tmoney_scores.append(score)\n",
    "\n",
    "\n",
    "# Print the output.\n",
    "print('List of possible money scores:', money_scores)\n",
    "print('\\nMean Money:',\n",
    "\tnp.mean(money_scores))\n",
    "print('\\nStandard Deviation is:', np.std(money_scores))"
   ]
  },
  {
   "cell_type": "markdown",
   "id": "d14fd958",
   "metadata": {},
   "source": [
    "## Verbesserung des Ergebnisses des monetären Maßes \n",
    "### Verschiebung des Threshold (Grenzwert der Entscheidungsfunktion)\n",
    "True Positive (TP-Werte) sind die korrekten 'bait'-Modellentscheidungen. Demnach ergeben sich:\n",
    "- TP ... korrekte 'bait'-Entscheidungen,\n",
    "- TN ... korrekte 'wait'-Entscheidungen,\n",
    "- FP ... falsche 'bait'-Entscheidungen, d.h. man hätte warten sollen,\n",
    "- FN ... falsche 'Wait'-Entscheidungen, d.h. man hätte kaufen sollen.\n",
    "    \n",
    "Das monetäre Gütemaß begünstigt falsche 'Bait' - Entscheidungen (FP), weil hierbei keine negativen Kostenwerte entstehen. Durch -im Zweifel- falsche Kaufempfehlungen lassen sich also Verluste vermeiden.\n",
    "\n",
    "Hingegen führen falsche 'Wait'-Entscheidungen immer zu Verlusten. Ziel muss es also sein, möglichst keine falschen 'Wait'-Entscheidungen zu erhalten. Falsche 'Wait'-Entscheidungen (FN) müssen also minimiert werden. Wir versuchen daher im Folgenden, einen möglichst hohen Recall (TP/(TP+FN))zu erzielen. Dies kann durch ein Verschieben des Threshold-Wertes erreicht werden. \n",
    "\n",
    "Doch zunächst werden die Precision- und Recall-Kurve gemeinsam dargestellt:\n",
    "\n",
    "### Precission-Recall-Kurve"
   ]
  },
  {
   "cell_type": "code",
   "execution_count": 18,
   "id": "6dcb6417",
   "metadata": {},
   "outputs": [
    {
     "data": {
      "image/png": "[encoded data removed]",
      "text/plain": [
       "<Figure size 576x396 with 1 Axes>"
      ]
     },
     "metadata": {},
     "output_type": "display_data"
    }
   ],
   "source": [
    "#CM-Vorbereitung: Vorhersage der Ergebnisse\n",
    "from sklearn.model_selection import cross_val_predict\n",
    "from sklearn.metrics import precision_recall_curve\n",
    "\n",
    "y_train_pred_PR_Curve = cross_val_predict(logReg_clf02, X_scaled, y, cv=3, method=\"decision_function\")\n",
    "\n",
    "precisions, recalls, thresholds = precision_recall_curve(y, y_train_pred_PR_Curve)\n",
    "\n",
    "fig = plt.figure()\n",
    "ax = fig.add_subplot(1, 1, 1)\n",
    "\n",
    "\n",
    "ax.set(xlim=(0, 1), xticks=(0, 0.25,0.5, 0.75,0.9,1),\n",
    "       ylim=(0.2, 0.9), yticks=(0.2, 0.3, 0.4, 0.9))\n",
    "\n",
    "ax.plot(recalls[:-1], precisions[:-1], \"b--\", label=\"y-Precisions\")\n",
    "ax.set_title('Precision (y) against Recall (x)')\n",
    "plt.show()\n",
    "\n"
   ]
  },
  {
   "cell_type": "markdown",
   "id": "b9e6176c",
   "metadata": {},
   "source": [
    "Man kann in der Grafik oben erkennen, dass ein hoher Recall von über 90% einen Precision-Wert von ca. 25% ergeben dürfte. Die folgende Grafik, die 'Threshold-Recall-Precision'-Kurve bestätigt diese Annahme:"
   ]
  },
  {
   "cell_type": "code",
   "execution_count": 19,
   "id": "507bbaa8",
   "metadata": {},
   "outputs": [
    {
     "data": {
      "image/png": "[encoded data removed]",
      "text/plain": [
       "<Figure size 576x396 with 1 Axes>"
      ]
     },
     "metadata": {},
     "output_type": "display_data"
    }
   ],
   "source": [
    "#Quelle: A.Geron 'Hands on Machine Learning...', O'Reilly, 2nd Edition, p.95\n",
    "def plot_precision_recall_vs_threshold(precisions, recalls, thresholds):\n",
    "    plt.plot(thresholds, precisions[:-1], \"b--\", label=\"Precisions\")\n",
    "    plt.plot(thresholds, recalls[:-1], \"g--\", label=\"Recalls\")\n",
    "    plt.axvline(x=-4.465, ymin=0.01, color='red', linewidth=1)\n",
    "    plt.legend(['Threshold(Precision)-Curve', 'Threshold(Recall)-Curve',\n",
    "                'Threshold -4.47 guarantees Recall=0.97'], bbox_to_anchor=(0.75, 1.15), ncol=2)\n",
    "plot_precision_recall_vs_threshold(precisions, recalls, thresholds)\n",
    "plt.show()"
   ]
  },
  {
   "cell_type": "markdown",
   "id": "4af36dd8",
   "metadata": {},
   "source": [
    "### Einen konkreten Grenzwert erreichen (Quelle: A.Geron)\n",
    "\n",
    "Um z.B. einen 97%-igen Recall zu erreichen,\n",
    "\n",
    "    Ziel: R=>97\n",
    "\n",
    "muss ein passender Grenzwert der Entscheidungsfunktion gewählt werden. Konkret wird nach dem niedrigsten Grenzwert ('threshold', mit der Methode np.argmin()) gesucht, der einen  97%-igen Recall-Wert garantiert:\n"
   ]
  },
  {
   "cell_type": "code",
   "execution_count": 20,
   "id": "a870387a",
   "metadata": {},
   "outputs": [
    {
     "name": "stdout",
     "output_type": "stream",
     "text": [
      "\n",
      "Grenzwert, ab dem in 'wait' klassifiziert wird....\n",
      " -4.465550679502887\n"
     ]
    }
   ],
   "source": [
    "# argmin() ... returns the indices of the minimum value along an axis.\n",
    "\n",
    "threshold_97_recall = thresholds[np.argmin(recalls >= 0.97)] \n",
    "\n",
    "print(\"\\nGrenzwert, ab dem in 'wait' klassifiziert wird....\\n\",threshold_97_recall)"
   ]
  },
  {
   "cell_type": "markdown",
   "id": "d163faff",
   "metadata": {},
   "source": [
    "Um mit diesem Grenzwert Vorhersagen zu treffen, kann auch -anstelle des Classifiers- die *predict()*-Methode gewählt werden. Im Folgenden sind die *'y-scores'* all diejenigen Ergebniswerte der Entscheidungsfunktion für jeden DS, die über dem gewünschten Grenzwert liegen. Es handelt sich also um genau die Labelwerte, mit denen eine bestimmter 'Recall'-Werte, z.B. mind 97%, erreicht wird."
   ]
  },
  {
   "cell_type": "code",
   "execution_count": 21,
   "id": "fbc4f0d5",
   "metadata": {},
   "outputs": [
    {
     "name": "stdout",
     "output_type": "stream",
     "text": [
      "Confusion matrix:\n",
      " [[ 7216 57690]\n",
      " [  562 18156]]\n",
      "\n",
      "Classification Report:\n",
      "               precision    recall  f1-score   support\n",
      "\n",
      "           0      0.928     0.111     0.199     64906\n",
      "           1      0.239     0.970     0.384     18718\n",
      "\n",
      "    accuracy                          0.303     83624\n",
      "   macro avg      0.584     0.541     0.291     83624\n",
      "weighted avg      0.774     0.303     0.240     83624\n",
      "\n"
     ]
    }
   ],
   "source": [
    "y_train_pred_97 = (y_train_pred_PR_Curve >= threshold_97_recall)\n",
    "\n",
    "#confusion matrix bei verändertem Grenzwert\n",
    "print(\"Confusion matrix:\\n\", confusion_matrix(y, y_train_pred_97))\n",
    "\n",
    "#classification report\n",
    "print(\"\\nClassification Report:\\n\",classification_report(y, y_train_pred_97,  digits=3))"
   ]
  },
  {
   "cell_type": "markdown",
   "id": "68392c0f",
   "metadata": {},
   "source": [
    "## Erneute Bewertung: Monetäres Maß mit neuem Threshold"
   ]
  },
  {
   "cell_type": "code",
   "execution_count": 22,
   "id": "77d03729",
   "metadata": {},
   "outputs": [
    {
     "name": "stderr",
     "output_type": "stream",
     "text": [
      "/tmp/ipykernel_10069/4028796872.py:32: SettingWithCopyWarning: \n",
      "A value is trying to be set on a copy of a slice from a DataFrame\n",
      "\n",
      "See the caveats in the documentation: https://pandas.pydata.org/pandas-docs/stable/user_guide/indexing.html#returning-a-view-versus-a-copy\n",
      "  request_dates.sort_values(by='Request_Date', ascending=False, inplace=True)\n",
      "/tmp/ipykernel_10069/4028796872.py:32: SettingWithCopyWarning: \n",
      "A value is trying to be set on a copy of a slice from a DataFrame\n",
      "\n",
      "See the caveats in the documentation: https://pandas.pydata.org/pandas-docs/stable/user_guide/indexing.html#returning-a-view-versus-a-copy\n",
      "  request_dates.sort_values(by='Request_Date', ascending=False, inplace=True)\n",
      "/tmp/ipykernel_10069/4028796872.py:32: SettingWithCopyWarning: \n",
      "A value is trying to be set on a copy of a slice from a DataFrame\n",
      "\n",
      "See the caveats in the documentation: https://pandas.pydata.org/pandas-docs/stable/user_guide/indexing.html#returning-a-view-versus-a-copy\n",
      "  request_dates.sort_values(by='Request_Date', ascending=False, inplace=True)\n",
      "/tmp/ipykernel_10069/4028796872.py:32: SettingWithCopyWarning: \n",
      "A value is trying to be set on a copy of a slice from a DataFrame\n",
      "\n",
      "See the caveats in the documentation: https://pandas.pydata.org/pandas-docs/stable/user_guide/indexing.html#returning-a-view-versus-a-copy\n",
      "  request_dates.sort_values(by='Request_Date', ascending=False, inplace=True)\n",
      "/tmp/ipykernel_10069/4028796872.py:32: SettingWithCopyWarning: \n",
      "A value is trying to be set on a copy of a slice from a DataFrame\n",
      "\n",
      "See the caveats in the documentation: https://pandas.pydata.org/pandas-docs/stable/user_guide/indexing.html#returning-a-view-versus-a-copy\n",
      "  request_dates.sort_values(by='Request_Date', ascending=False, inplace=True)\n"
     ]
    },
    {
     "name": "stdout",
     "output_type": "stream",
     "text": [
      "List of possible money scores: [3089.22, 2382.04, 2168.78, 4279.42, 1806.55]\n",
      "\n",
      "Mean Money: 2745.202\n",
      "\n",
      "Standard Deviation is: 873.7722578887475\n"
     ]
    }
   ],
   "source": [
    "# Create StratifiedKFold object.\n",
    "skf = StratifiedKFold(n_splits=5, shuffle=True, random_state=42)\n",
    "money_scores = []\n",
    "\n",
    "# for each fold create a dataframe\n",
    "for train_index, test_index in skf.split(X_scaled, y_train_pred_97): \n",
    "\t# get each fold train, test fold with index index \n",
    "\tx_train_fold, x_test_fold = X_scaled[train_index], X_scaled[test_index]\n",
    "\ty_train_fold, y_test_fold = y_train_pred_97[train_index], y_train_pred_97[test_index]\n",
    "\tlogReg_clf02.fit(x_train_fold, y_train_fold)\n",
    "\ty_pred = logReg_clf02.predict(x_test_fold)\n",
    "\t\n",
    "\t# make test df to evaluate\n",
    "\tX_train_1 = train_set_orig.loc[test_index]\n",
    "\tdf = pd.DataFrame(x_test_fold, index=test_index)\n",
    "\tdf[\"buy\"] = y_pred\n",
    "\tdf[\"flight_unique_id\"] = X_train_1[\"flight_unique_id\"]\n",
    "\tdf[\"Request_Date\"] = X_train_1[\"Request_Date\"]\n",
    "\tdf[\"Price\"] = X_train_1[\"Price_In_Eur\"]\n",
    " \n",
    "\t# eval with custom func and append\n",
    "\tscore = model_quality_evaluation(df)\n",
    "\tmoney_scores.append(score)\n",
    "\n",
    "\n",
    "# Print the output.\n",
    "print('List of possible money scores:', money_scores)\n",
    "print('\\nMean Money:',\n",
    "\tnp.mean(money_scores))\n",
    "print('\\nStandard Deviation is:', np.std(money_scores))"
   ]
  },
  {
   "cell_type": "markdown",
   "id": "d830e437",
   "metadata": {},
   "source": [
    "## Vorhersage mit Test-Datensatz für monetären Vergleich mit anderen Projektgruppen\n",
    "### Testdatensatz laden und skalieren"
   ]
  },
  {
   "cell_type": "code",
   "execution_count": 23,
   "id": "b62aab64",
   "metadata": {},
   "outputs": [
    {
     "data": {
      "text/html": [
       "<div>\n",
       "<style scoped>\n",
       "    .dataframe tbody tr th:only-of-type {\n",
       "        vertical-align: middle;\n",
       "    }\n",
       "\n",
       "    .dataframe tbody tr th {\n",
       "        vertical-align: top;\n",
       "    }\n",
       "\n",
       "    .dataframe thead th {\n",
       "        text-align: right;\n",
       "    }\n",
       "</style>\n",
       "<table border=\"1\" class=\"dataframe\">\n",
       "  <thead>\n",
       "    <tr style=\"text-align: right;\">\n",
       "      <th></th>\n",
       "      <th>index</th>\n",
       "      <th>Request_Date</th>\n",
       "      <th>Flight_Date</th>\n",
       "      <th>Departure_hour</th>\n",
       "      <th>flight_unique_id</th>\n",
       "      <th>route_abb</th>\n",
       "      <th>Price_In_Eur</th>\n",
       "    </tr>\n",
       "  </thead>\n",
       "  <tbody>\n",
       "    <tr>\n",
       "      <th>0</th>\n",
       "      <td>1</td>\n",
       "      <td>2019-06-03T11:00:00Z</td>\n",
       "      <td>2019-07-02</td>\n",
       "      <td>7</td>\n",
       "      <td>2019-07-02 FR 145</td>\n",
       "      <td>STN-SXF</td>\n",
       "      <td>30.32</td>\n",
       "    </tr>\n",
       "    <tr>\n",
       "      <th>1</th>\n",
       "      <td>2</td>\n",
       "      <td>2019-06-03T23:00:00Z</td>\n",
       "      <td>2019-07-02</td>\n",
       "      <td>7</td>\n",
       "      <td>2019-07-02 FR 145</td>\n",
       "      <td>STN-SXF</td>\n",
       "      <td>44.53</td>\n",
       "    </tr>\n",
       "    <tr>\n",
       "      <th>2</th>\n",
       "      <td>3</td>\n",
       "      <td>2019-06-04T11:00:00Z</td>\n",
       "      <td>2019-07-02</td>\n",
       "      <td>7</td>\n",
       "      <td>2019-07-02 FR 145</td>\n",
       "      <td>STN-SXF</td>\n",
       "      <td>44.47</td>\n",
       "    </tr>\n",
       "    <tr>\n",
       "      <th>3</th>\n",
       "      <td>4</td>\n",
       "      <td>2019-06-04T23:00:00Z</td>\n",
       "      <td>2019-07-02</td>\n",
       "      <td>7</td>\n",
       "      <td>2019-07-02 FR 145</td>\n",
       "      <td>STN-SXF</td>\n",
       "      <td>44.47</td>\n",
       "    </tr>\n",
       "    <tr>\n",
       "      <th>4</th>\n",
       "      <td>5</td>\n",
       "      <td>2019-06-05T11:00:00Z</td>\n",
       "      <td>2019-07-02</td>\n",
       "      <td>7</td>\n",
       "      <td>2019-07-02 FR 145</td>\n",
       "      <td>STN-SXF</td>\n",
       "      <td>44.52</td>\n",
       "    </tr>\n",
       "    <tr>\n",
       "      <th>...</th>\n",
       "      <td>...</td>\n",
       "      <td>...</td>\n",
       "      <td>...</td>\n",
       "      <td>...</td>\n",
       "      <td>...</td>\n",
       "      <td>...</td>\n",
       "      <td>...</td>\n",
       "    </tr>\n",
       "    <tr>\n",
       "      <th>5578</th>\n",
       "      <td>5579</td>\n",
       "      <td>2019-07-30T23:00:00Z</td>\n",
       "      <td>2019-08-02</td>\n",
       "      <td>22</td>\n",
       "      <td>2019-08-02 FR 8545</td>\n",
       "      <td>SXF-STN</td>\n",
       "      <td>42.83</td>\n",
       "    </tr>\n",
       "    <tr>\n",
       "      <th>5579</th>\n",
       "      <td>5580</td>\n",
       "      <td>2019-07-31T11:00:00Z</td>\n",
       "      <td>2019-08-02</td>\n",
       "      <td>22</td>\n",
       "      <td>2019-08-02 FR 8545</td>\n",
       "      <td>SXF-STN</td>\n",
       "      <td>50.99</td>\n",
       "    </tr>\n",
       "    <tr>\n",
       "      <th>5580</th>\n",
       "      <td>5581</td>\n",
       "      <td>2019-07-31T23:00:00Z</td>\n",
       "      <td>2019-08-02</td>\n",
       "      <td>22</td>\n",
       "      <td>2019-08-02 FR 8545</td>\n",
       "      <td>SXF-STN</td>\n",
       "      <td>50.99</td>\n",
       "    </tr>\n",
       "    <tr>\n",
       "      <th>5581</th>\n",
       "      <td>5582</td>\n",
       "      <td>2019-08-01T11:00:00Z</td>\n",
       "      <td>2019-08-02</td>\n",
       "      <td>22</td>\n",
       "      <td>2019-08-02 FR 8545</td>\n",
       "      <td>SXF-STN</td>\n",
       "      <td>50.99</td>\n",
       "    </tr>\n",
       "    <tr>\n",
       "      <th>5582</th>\n",
       "      <td>5583</td>\n",
       "      <td>2019-08-01T23:00:00Z</td>\n",
       "      <td>2019-08-02</td>\n",
       "      <td>22</td>\n",
       "      <td>2019-08-02 FR 8545</td>\n",
       "      <td>SXF-STN</td>\n",
       "      <td>50.99</td>\n",
       "    </tr>\n",
       "  </tbody>\n",
       "</table>\n",
       "<p>5583 rows × 7 columns</p>\n",
       "</div>"
      ],
      "text/plain": [
       "      index          Request_Date Flight_Date  Departure_hour  \\\n",
       "0         1  2019-06-03T11:00:00Z  2019-07-02               7   \n",
       "1         2  2019-06-03T23:00:00Z  2019-07-02               7   \n",
       "2         3  2019-06-04T11:00:00Z  2019-07-02               7   \n",
       "3         4  2019-06-04T23:00:00Z  2019-07-02               7   \n",
       "4         5  2019-06-05T11:00:00Z  2019-07-02               7   \n",
       "...     ...                   ...         ...             ...   \n",
       "5578   5579  2019-07-30T23:00:00Z  2019-08-02              22   \n",
       "5579   5580  2019-07-31T11:00:00Z  2019-08-02              22   \n",
       "5580   5581  2019-07-31T23:00:00Z  2019-08-02              22   \n",
       "5581   5582  2019-08-01T11:00:00Z  2019-08-02              22   \n",
       "5582   5583  2019-08-01T23:00:00Z  2019-08-02              22   \n",
       "\n",
       "        flight_unique_id route_abb  Price_In_Eur  \n",
       "0      2019-07-02 FR 145   STN-SXF         30.32  \n",
       "1      2019-07-02 FR 145   STN-SXF         44.53  \n",
       "2      2019-07-02 FR 145   STN-SXF         44.47  \n",
       "3      2019-07-02 FR 145   STN-SXF         44.47  \n",
       "4      2019-07-02 FR 145   STN-SXF         44.52  \n",
       "...                  ...       ...           ...  \n",
       "5578  2019-08-02 FR 8545   SXF-STN         42.83  \n",
       "5579  2019-08-02 FR 8545   SXF-STN         50.99  \n",
       "5580  2019-08-02 FR 8545   SXF-STN         50.99  \n",
       "5581  2019-08-02 FR 8545   SXF-STN         50.99  \n",
       "5582  2019-08-02 FR 8545   SXF-STN         50.99  \n",
       "\n",
       "[5583 rows x 7 columns]"
      ]
     },
     "execution_count": 23,
     "metadata": {},
     "output_type": "execute_result"
    }
   ],
   "source": [
    "X_test_set_ohe = pd.read_csv(\"./test_set_ohe.csv\")\n",
    "\n",
    "#Export vorbereiten\n",
    "X_test_set = pd.read_csv(\"./test_set.csv\")\n",
    "\n",
    "#Sortieren der Testdaten, genau wie die OHE-Daten, um Zuordnung der Vorhersagen zu erhalten\n",
    "X_test_set.sort_values([\"flight_unique_id\", \"Request_Date\"])"
   ]
  },
  {
   "cell_type": "code",
   "execution_count": 24,
   "id": "8d62b34d",
   "metadata": {},
   "outputs": [],
   "source": [
    "#test_set_ohe skalieren\n",
    "scaler.fit(X_test_set_ohe)\n",
    "X_test_scaled = scaler.transform(X_test_set_ohe)"
   ]
  },
  {
   "cell_type": "markdown",
   "id": "6344b0d8",
   "metadata": {},
   "source": [
    "### Vorhersage und Export der Testdaten"
   ]
  },
  {
   "cell_type": "code",
   "execution_count": 25,
   "id": "251aa998",
   "metadata": {},
   "outputs": [],
   "source": [
    "#Vorhersage mit skalierten ohe_Daten\n",
    "X_testSet_scores = logReg_clf02.predict(X_test_scaled)\n"
   ]
  },
  {
   "cell_type": "code",
   "execution_count": 26,
   "id": "083c2cea",
   "metadata": {},
   "outputs": [],
   "source": [
    "#Vorhersagen zu den originalen Testdaten als Spalte 'buy' hinzufuegen\n",
    "X_test_set['buy']=X_testSet_scores"
   ]
  },
  {
   "cell_type": "code",
   "execution_count": 27,
   "id": "6f0322ce",
   "metadata": {},
   "outputs": [],
   "source": [
    "#Vorhergesagte Testdaten\n",
    "X_test_set.to_csv(\"./test_set_predicted.csv\", index=False)"
   ]
  }
 ],
 "metadata": {
  "kernelspec": {
   "display_name": "Python 3 (ipykernel)",
   "language": "python",
   "name": "python3"
  },
  "language_info": {
   "codemirror_mode": {
    "name": "ipython",
    "version": 3
   },
   "file_extension": ".py",
   "mimetype": "text/x-python",
   "name": "python",
   "nbconvert_exporter": "python",
   "pygments_lexer": "ipython3",
   "version": "3.8.10"
  },
  "toc": {
   "base_numbering": 1,
   "nav_menu": {},
   "number_sections": true,
   "sideBar": true,
   "skip_h1_title": false,
   "title_cell": "Table of Contents",
   "title_sidebar": "Inhaltsverzeichnis",
   "toc_cell": false,
   "toc_position": {
    "height": "calc(100% - 180px)",
    "left": "10px",
    "top": "150px",
    "width": "295.667px"
   },
   "toc_section_display": true,
   "toc_window_display": true
  }
 },
 "nbformat": 4,
 "nbformat_minor": 5
}
