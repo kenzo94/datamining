{
 "cells": [
  {
   "cell_type": "code",
   "execution_count": 1,
   "id": "4a4f251c",
   "metadata": {},
   "outputs": [],
   "source": [
    "%config Completer.use_jedi = False"
   ]
  },
  {
   "cell_type": "markdown",
   "id": "b130eece",
   "metadata": {},
   "source": [
    "## Import von  Modulen\n"
   ]
  },
  {
   "cell_type": "code",
   "execution_count": 2,
   "id": "7fd68362",
   "metadata": {},
   "outputs": [],
   "source": [
    "# Importiere Module und Methoden\n",
    "#%matplotlib ipympl\n",
    "import pandas as pd\n",
    "import numpy as np\n",
    "import matplotlib.pyplot as plt \n",
    "\n",
    "from sklearn.linear_model import LogisticRegression\n",
    "from sklearn.model_selection import cross_val_score\n",
    "from sklearn.preprocessing import StandardScaler\n",
    "from sklearn.model_selection import train_test_split, StratifiedKFold"
   ]
  },
  {
   "cell_type": "markdown",
   "id": "f8d5d822",
   "metadata": {},
   "source": [
    "## Import der Daten\n",
    "\n",
    "Die Daten und Merkmale wurden im ersten Teil des Projektes bearbeitet. Hier werden diese Daten aus lokal gespeicherten CSV-Dateien geladen:"
   ]
  },
  {
   "cell_type": "code",
   "execution_count": 3,
   "id": "c5ed262f",
   "metadata": {},
   "outputs": [
    {
     "name": "stdout",
     "output_type": "stream",
     "text": [
      "<class 'pandas.core.frame.DataFrame'>\n",
      "RangeIndex: 83624 entries, 0 to 83623\n",
      "Data columns (total 32 columns):\n",
      " #   Column                               Non-Null Count  Dtype  \n",
      "---  ------                               --------------  -----  \n",
      " 0   Departure_FRA                        83624 non-null  float64\n",
      " 1   Departure_STN                        83624 non-null  float64\n",
      " 2   Departure_SXF                        83624 non-null  float64\n",
      " 3   Destination_FRA                      83624 non-null  float64\n",
      " 4   Destination_STN                      83624 non-null  float64\n",
      " 5   Destination_SXF                      83624 non-null  float64\n",
      " 6   Price_Dev_Cat_Falling                83624 non-null  float64\n",
      " 7   Price_Dev_Cat_Rising                 83624 non-null  float64\n",
      " 8   Price_Dev_Cat_Steady                 83624 non-null  float64\n",
      " 9   Request_Day                          83624 non-null  float64\n",
      " 10  Flight_Day                           83624 non-null  float64\n",
      " 11  buy                                  83624 non-null  int64  \n",
      " 12  Price_In_Eur                         83624 non-null  float64\n",
      " 13  Price_Dev                            83624 non-null  float64\n",
      " 14  Price_Dev_Three_Days                 83624 non-null  float64\n",
      " 15  Request_Month                        83624 non-null  int64  \n",
      " 16  Request_Time                         83624 non-null  int64  \n",
      " 17  Last_Request_Bool                    83624 non-null  int64  \n",
      " 18  Departure_hour                       83624 non-null  int64  \n",
      " 19  Hours_to_Flight                      83624 non-null  int64  \n",
      " 20  Request_Count                        83624 non-null  float64\n",
      " 21  Request_Count_Sum                    83624 non-null  int64  \n",
      " 22  Same_Day_route_Flight                83624 non-null  object \n",
      " 23  Is_Holiday_UK                        83624 non-null  int64  \n",
      " 24  Is_Holiday_GER                       83624 non-null  int64  \n",
      " 25  Is_School_Holiday_BER                83624 non-null  int64  \n",
      " 26  Is_School_Holiday_FRA                83624 non-null  int64  \n",
      " 27  Is_School_Holiday_UK                 83624 non-null  int64  \n",
      " 28  flight_unique_id_same_flight_date    83624 non-null  object \n",
      " 29  Same_Day_Route_Flight_avg_price      83624 non-null  float64\n",
      " 30  Same_Day_Route_Flight_avg_price_utd  83624 non-null  float64\n",
      " 31  Same_Day_Request_route_Flight_price  83624 non-null  float64\n",
      "dtypes: float64(18), int64(12), object(2)\n",
      "memory usage: 20.4+ MB\n"
     ]
    }
   ],
   "source": [
    "#Read OHE Data shortcut\n",
    "#waitOrBait_subset = load_data_set(\"~/ml/datasets/waitOrBait/fromCollab/transformedDF.csv\")#isttransformedDf\n",
    "train_set_orig = pd.read_csv(\"./train_set.csv\")\n",
    "train_set = pd.read_csv(\"./train_set_ohe.csv\")\n",
    "train_set.info()"
   ]
  },
  {
   "cell_type": "markdown",
   "id": "bac5af77",
   "metadata": {},
   "source": [
    "### Speichern der Merkmale im Dataframe - Erzeuge Trainings- und Testdatensatz mit train_test_split()"
   ]
  },
  {
   "cell_type": "code",
   "execution_count": 4,
   "id": "b88b792b",
   "metadata": {},
   "outputs": [
    {
     "data": {
      "text/html": [
       "<div>\n",
       "<style scoped>\n",
       "    .dataframe tbody tr th:only-of-type {\n",
       "        vertical-align: middle;\n",
       "    }\n",
       "\n",
       "    .dataframe tbody tr th {\n",
       "        vertical-align: top;\n",
       "    }\n",
       "\n",
       "    .dataframe thead th {\n",
       "        text-align: right;\n",
       "    }\n",
       "</style>\n",
       "<table border=\"1\" class=\"dataframe\">\n",
       "  <thead>\n",
       "    <tr style=\"text-align: right;\">\n",
       "      <th></th>\n",
       "      <th>Departure_FRA</th>\n",
       "      <th>Departure_STN</th>\n",
       "      <th>Departure_SXF</th>\n",
       "      <th>Destination_FRA</th>\n",
       "      <th>Destination_STN</th>\n",
       "      <th>Destination_SXF</th>\n",
       "      <th>Price_Dev_Cat_Falling</th>\n",
       "      <th>Price_Dev_Cat_Rising</th>\n",
       "      <th>Price_Dev_Cat_Steady</th>\n",
       "      <th>Price_In_Eur</th>\n",
       "      <th>...</th>\n",
       "      <th>Hours_to_Flight</th>\n",
       "      <th>Request_Count</th>\n",
       "      <th>Request_Count_Sum</th>\n",
       "      <th>Last_Request_Bool</th>\n",
       "      <th>Is_Holiday_UK</th>\n",
       "      <th>Is_Holiday_GER</th>\n",
       "      <th>Is_School_Holiday_BER</th>\n",
       "      <th>Is_School_Holiday_FRA</th>\n",
       "      <th>Is_School_Holiday_UK</th>\n",
       "      <th>buy</th>\n",
       "    </tr>\n",
       "  </thead>\n",
       "  <tbody>\n",
       "    <tr>\n",
       "      <th>0</th>\n",
       "      <td>0.0</td>\n",
       "      <td>0.0</td>\n",
       "      <td>1.0</td>\n",
       "      <td>0.0</td>\n",
       "      <td>1.0</td>\n",
       "      <td>0.0</td>\n",
       "      <td>0.0</td>\n",
       "      <td>0.0</td>\n",
       "      <td>1.0</td>\n",
       "      <td>208.07</td>\n",
       "      <td>...</td>\n",
       "      <td>56</td>\n",
       "      <td>1.0</td>\n",
       "      <td>4</td>\n",
       "      <td>0</td>\n",
       "      <td>0</td>\n",
       "      <td>0</td>\n",
       "      <td>1</td>\n",
       "      <td>0</td>\n",
       "      <td>0</td>\n",
       "      <td>1</td>\n",
       "    </tr>\n",
       "    <tr>\n",
       "      <th>1</th>\n",
       "      <td>0.0</td>\n",
       "      <td>0.0</td>\n",
       "      <td>1.0</td>\n",
       "      <td>0.0</td>\n",
       "      <td>1.0</td>\n",
       "      <td>0.0</td>\n",
       "      <td>0.0</td>\n",
       "      <td>1.0</td>\n",
       "      <td>0.0</td>\n",
       "      <td>259.07</td>\n",
       "      <td>...</td>\n",
       "      <td>44</td>\n",
       "      <td>2.0</td>\n",
       "      <td>4</td>\n",
       "      <td>0</td>\n",
       "      <td>0</td>\n",
       "      <td>0</td>\n",
       "      <td>1</td>\n",
       "      <td>0</td>\n",
       "      <td>0</td>\n",
       "      <td>1</td>\n",
       "    </tr>\n",
       "    <tr>\n",
       "      <th>2</th>\n",
       "      <td>0.0</td>\n",
       "      <td>0.0</td>\n",
       "      <td>1.0</td>\n",
       "      <td>0.0</td>\n",
       "      <td>1.0</td>\n",
       "      <td>0.0</td>\n",
       "      <td>0.0</td>\n",
       "      <td>0.0</td>\n",
       "      <td>1.0</td>\n",
       "      <td>259.07</td>\n",
       "      <td>...</td>\n",
       "      <td>32</td>\n",
       "      <td>3.0</td>\n",
       "      <td>4</td>\n",
       "      <td>0</td>\n",
       "      <td>0</td>\n",
       "      <td>0</td>\n",
       "      <td>1</td>\n",
       "      <td>0</td>\n",
       "      <td>0</td>\n",
       "      <td>1</td>\n",
       "    </tr>\n",
       "    <tr>\n",
       "      <th>3</th>\n",
       "      <td>0.0</td>\n",
       "      <td>0.0</td>\n",
       "      <td>1.0</td>\n",
       "      <td>0.0</td>\n",
       "      <td>1.0</td>\n",
       "      <td>0.0</td>\n",
       "      <td>0.0</td>\n",
       "      <td>0.0</td>\n",
       "      <td>1.0</td>\n",
       "      <td>259.07</td>\n",
       "      <td>...</td>\n",
       "      <td>20</td>\n",
       "      <td>4.0</td>\n",
       "      <td>4</td>\n",
       "      <td>1</td>\n",
       "      <td>0</td>\n",
       "      <td>0</td>\n",
       "      <td>1</td>\n",
       "      <td>0</td>\n",
       "      <td>0</td>\n",
       "      <td>1</td>\n",
       "    </tr>\n",
       "    <tr>\n",
       "      <th>4</th>\n",
       "      <td>0.0</td>\n",
       "      <td>1.0</td>\n",
       "      <td>0.0</td>\n",
       "      <td>0.0</td>\n",
       "      <td>0.0</td>\n",
       "      <td>1.0</td>\n",
       "      <td>0.0</td>\n",
       "      <td>0.0</td>\n",
       "      <td>1.0</td>\n",
       "      <td>143.86</td>\n",
       "      <td>...</td>\n",
       "      <td>58</td>\n",
       "      <td>1.0</td>\n",
       "      <td>4</td>\n",
       "      <td>0</td>\n",
       "      <td>0</td>\n",
       "      <td>0</td>\n",
       "      <td>1</td>\n",
       "      <td>0</td>\n",
       "      <td>0</td>\n",
       "      <td>1</td>\n",
       "    </tr>\n",
       "  </tbody>\n",
       "</table>\n",
       "<p>5 rows × 28 columns</p>\n",
       "</div>"
      ],
      "text/plain": [
       "   Departure_FRA  Departure_STN  Departure_SXF  Destination_FRA  \\\n",
       "0            0.0            0.0            1.0              0.0   \n",
       "1            0.0            0.0            1.0              0.0   \n",
       "2            0.0            0.0            1.0              0.0   \n",
       "3            0.0            0.0            1.0              0.0   \n",
       "4            0.0            1.0            0.0              0.0   \n",
       "\n",
       "   Destination_STN  Destination_SXF  Price_Dev_Cat_Falling  \\\n",
       "0              1.0              0.0                    0.0   \n",
       "1              1.0              0.0                    0.0   \n",
       "2              1.0              0.0                    0.0   \n",
       "3              1.0              0.0                    0.0   \n",
       "4              0.0              1.0                    0.0   \n",
       "\n",
       "   Price_Dev_Cat_Rising  Price_Dev_Cat_Steady  Price_In_Eur  ...  \\\n",
       "0                   0.0                   1.0        208.07  ...   \n",
       "1                   1.0                   0.0        259.07  ...   \n",
       "2                   0.0                   1.0        259.07  ...   \n",
       "3                   0.0                   1.0        259.07  ...   \n",
       "4                   0.0                   1.0        143.86  ...   \n",
       "\n",
       "   Hours_to_Flight  Request_Count  Request_Count_Sum  Last_Request_Bool  \\\n",
       "0               56            1.0                  4                  0   \n",
       "1               44            2.0                  4                  0   \n",
       "2               32            3.0                  4                  0   \n",
       "3               20            4.0                  4                  1   \n",
       "4               58            1.0                  4                  0   \n",
       "\n",
       "   Is_Holiday_UK  Is_Holiday_GER  Is_School_Holiday_BER  \\\n",
       "0              0               0                      1   \n",
       "1              0               0                      1   \n",
       "2              0               0                      1   \n",
       "3              0               0                      1   \n",
       "4              0               0                      1   \n",
       "\n",
       "   Is_School_Holiday_FRA  Is_School_Holiday_UK  buy  \n",
       "0                      0                     0    1  \n",
       "1                      0                     0    1  \n",
       "2                      0                     0    1  \n",
       "3                      0                     0    1  \n",
       "4                      0                     0    1  \n",
       "\n",
       "[5 rows x 28 columns]"
      ]
     },
     "execution_count": 4,
     "metadata": {},
     "output_type": "execute_result"
    }
   ],
   "source": [
    "customFeaturesDf = train_set[[\"Departure_FRA\", \"Departure_STN\", \"Departure_SXF\", \"Destination_FRA\", \"Destination_STN\", \"Destination_SXF\", \"Price_Dev_Cat_Falling\", \n",
    "                                  \"Price_Dev_Cat_Rising\", \"Price_Dev_Cat_Steady\", \"Price_In_Eur\",\n",
    "                                  \"Price_Dev\", \"Price_Dev_Three_Days\", \"Same_Day_Request_route_Flight_price\",\n",
    "                                  \"Request_Month\", \"Request_Time\", \"Request_Day\", \"Flight_Day\", \"Departure_hour\",\n",
    "                                  \"Hours_to_Flight\", \"Request_Count\", \"Request_Count_Sum\", \"Last_Request_Bool\", \"Is_Holiday_UK\", \"Is_Holiday_GER\",\n",
    "                                  \"Is_School_Holiday_BER\", \"Is_School_Holiday_FRA\", \"Is_School_Holiday_UK\", \"buy\"]]\n",
    "customFeaturesDf.head()"
   ]
  },
  {
   "cell_type": "code",
   "execution_count": 5,
   "id": "14fc9d2a",
   "metadata": {},
   "outputs": [
    {
     "name": "stdout",
     "output_type": "stream",
     "text": [
      "Shape of X_train: (66899, 27)\n",
      "Shape of X_test: (16725, 27)\n",
      "Shape of y_train: (66899,)\n",
      "Shape of y_test: (16725,) \n",
      "\n"
     ]
    }
   ],
   "source": [
    "X = customFeaturesDf.iloc[:,0:-1]\n",
    "y = customFeaturesDf.iloc[:,-1]\n",
    "X_train, X_test, y_train, y_test = train_test_split(X, y, test_size=0.20, random_state=42, stratify=y, shuffle=True)\n",
    "\n",
    "print(\"Shape of X_train:\", X_train.shape)\n",
    "print(\"Shape of X_test:\", X_test.shape)\n",
    "print(\"Shape of y_train:\", y_train.shape)\n",
    "print(\"Shape of y_test:\", y_test.shape, \"\\n\")"
   ]
  },
  {
   "cell_type": "markdown",
   "id": "223b35bb",
   "metadata": {},
   "source": [
    "### Standardisierung der Variance auf 1 um Rauschen in den Datensatz zu veringern und die Skalierung der Dimensionen zu vereinheitlichen.\n",
    "\n",
    "X_scale: Alle 21 Features"
   ]
  },
  {
   "cell_type": "code",
   "execution_count": 6,
   "id": "361d4661",
   "metadata": {},
   "outputs": [
    {
     "data": {
      "text/plain": [
       "array([1., 1., 1., 1., 1., 1., 1., 1., 1., 1., 1., 1., 1., 1., 1., 1., 1.,\n",
       "       1., 1., 1., 1., 1., 1., 1., 1., 1., 1.])"
      ]
     },
     "execution_count": 6,
     "metadata": {},
     "output_type": "execute_result"
    }
   ],
   "source": [
    "scaler = StandardScaler(with_mean=False)\n",
    "\n",
    "# scale variance to 1\n",
    "scaler.fit(X_train)\n",
    "X_train_scaled = scaler.transform(X_train)\n",
    "X_test_scaled = scaler.transform(X_test)\n",
    "X_train_scaled.std(axis=0)"
   ]
  },
  {
   "cell_type": "code",
   "execution_count": 7,
   "id": "584273ac",
   "metadata": {},
   "outputs": [
    {
     "data": {
      "text/plain": [
       "(66899, 27)"
      ]
     },
     "execution_count": 7,
     "metadata": {},
     "output_type": "execute_result"
    }
   ],
   "source": [
    "X_train_scaled.shape"
   ]
  },
  {
   "cell_type": "markdown",
   "id": "1f14d38d",
   "metadata": {},
   "source": [
    "## Hauptkomponentenanalyse (PCA): Reduzierung der Menge der Merkmale\n",
    "\n",
    "Aufgrund der Erkenntnisse, die aus der PCA gewonnen wurden (siehe oben bei SVM), werden hier im weiteren die merkmalsreduzierten Trainingsdaten mit 18 Merkmalen genutzt."
   ]
  },
  {
   "cell_type": "code",
   "execution_count": 8,
   "id": "8e215f33",
   "metadata": {},
   "outputs": [
    {
     "data": {
      "text/plain": [
       "(66899, 2)"
      ]
     },
     "execution_count": 8,
     "metadata": {},
     "output_type": "execute_result"
    },
    {
     "data": {
      "image/png": "[encoded data removed]",
      "text/plain": [
       "<Figure size 576x396 with 1 Axes>"
      ]
     },
     "metadata": {},
     "output_type": "display_data"
    }
   ],
   "source": [
    "# reduced featured space to 18 with PCA\n",
    "from yellowbrick.features import PCA\n",
    "\n",
    "pca = PCA(n_components=0.95)\n",
    "pca.fit(X_train_scaled) \n",
    "X_train_reduced = pca.transform(X_train_scaled)\n",
    "X_test_reduced = pca.transform(X_test_scaled)\n",
    "X_train_reduced.shape"
   ]
  },
  {
   "cell_type": "markdown",
   "id": "94244159",
   "metadata": {},
   "source": [
    "## Training des Classifiers mit PCA-reduziertem Merkmalssatz"
   ]
  },
  {
   "cell_type": "code",
   "execution_count": 9,
   "id": "6fbc797c",
   "metadata": {},
   "outputs": [
    {
     "name": "stdout",
     "output_type": "stream",
     "text": [
      "0.78 accuracy with a standard deviation of 0.00\n"
     ]
    }
   ],
   "source": [
    "# possible solvers are: 'liblinear', 'newton-cg', 'lbfgs', 'sag', 'saga'\n",
    "logReg_clf = LogisticRegression(random_state=42, solver=\"lbfgs\", max_iter=3000).fit(X_train_reduced, y_train)\n",
    "\n",
    "scores = cross_val_score(logReg_clf, X_train_reduced, y_train, cv=10, n_jobs=-1)\n",
    "print(\"%0.2f accuracy with a standard deviation of %0.2f\" % (scores.mean(), scores.std()))"
   ]
  },
  {
   "cell_type": "markdown",
   "id": "94f43b6c",
   "metadata": {},
   "source": [
    "## Optimierung der Hyperparameter"
   ]
  },
  {
   "cell_type": "code",
   "execution_count": 10,
   "id": "f06545b3",
   "metadata": {},
   "outputs": [
    {
     "name": "stdout",
     "output_type": "stream",
     "text": [
      "tuned hpyerparameters :(best parameters)  {'C': 0.001, 'penalty': 'l2'}\n",
      "accuracy : 0.7761999431947818\n",
      "Best parameters set found on X_train:\n",
      "\n",
      "{'C': 0.001, 'penalty': 'l2'}\n",
      "\n",
      "Grid scores on train_set:\n",
      "\n",
      "0.776 (+/-0.000) for {'C': 1e-05, 'penalty': 'l2'}\n",
      "0.776 (+/-0.000) for {'C': 0.0001, 'penalty': 'l2'}\n",
      "0.776 (+/-0.000) for {'C': 0.001, 'penalty': 'l2'}\n",
      "0.776 (+/-0.000) for {'C': 0.01, 'penalty': 'l2'}\n",
      "0.776 (+/-0.000) for {'C': 0.1, 'penalty': 'l2'}\n",
      "0.776 (+/-0.000) for {'C': 1, 'penalty': 'l2'}\n",
      "0.776 (+/-0.000) for {'C': 100, 'penalty': 'l2'}\n",
      "0.776 (+/-0.000) for {'C': 10000, 'penalty': 'l2'}\n",
      "0.776 (+/-0.000) for {'C': 100000, 'penalty': 'l2'}\n",
      "0.776 (+/-0.000) for {'C': 1000000, 'penalty': 'l2'}\n",
      "0.776 (+/-0.000) for {'C': 10000000, 'penalty': 'l2'}\n",
      "0.776 (+/-0.000) for {'C': 100000000, 'penalty': 'l2'}\n",
      "Confusion Matrix?:\n"
     ]
    }
   ],
   "source": [
    "#LogREgression Optimierung des Hyperparameter\n",
    "# Grid search cross validation\n",
    "\n",
    "#Source: https://towardsdatascience.com/implement-logistic-regression-with-l2-regularization-from-scratch-in-python-20bd4ee88a59#4077\n",
    "#penalty : None or 'l2', default='l2'.\n",
    "#        Option to perform L2 regularization.\n",
    "#    C : float, default=0.1\n",
    "#        Inverse of regularization strength; must be a positive float. \n",
    "#        Smaller values specify stronger regularization.\n",
    "from sklearn.model_selection import GridSearchCV\n",
    "from sklearn.linear_model import LogisticRegression\n",
    "\n",
    "grid = {'C': [0.00001, 0.0001, 0.001, 0.01,0.1, 1, 100, 10000, 100000, 1000000, 10000000, 100000000], \"penalty\":[\"l2\"] }\n",
    "#grid = {'C': [1.5,1.6,1.7,1.8,1.9,2,2.1,2.2,2.3,2.4,2.5,2.6,2.7,2.8,2.9,3], \"penalty\":[\"l2\"] }\n",
    "\n",
    "logReg_cv=GridSearchCV(logReg_clf,grid,cv=10)\n",
    "logReg_cv.fit(X_train_reduced,y_train)\n",
    "\n",
    "print(\"tuned hpyerparameters :(best parameters) \",logReg_cv.best_params_)\n",
    "print(\"accuracy :\",logReg_cv.best_score_)\n",
    "\n",
    "print(\"Best parameters set found on X_train:\")\n",
    "print()\n",
    "print(logReg_cv.best_params_)\n",
    "print()\n",
    "print(\"Grid scores on train_set:\")\n",
    "print()\n",
    "means = logReg_cv.cv_results_['mean_test_score']\n",
    "stds = logReg_cv.cv_results_['std_test_score']\n",
    "for mean, std, params in zip(means, stds, logReg_cv.cv_results_['params']):\n",
    "      print(\"%0.3f (+/-%0.03f) for %r\" % (mean, std * 2, params))\n",
    "      \n",
    "print(\"Confusion Matrix?:\")"
   ]
  },
  {
   "cell_type": "markdown",
   "id": "57448824",
   "metadata": {},
   "source": [
    "## Bewertung mit monetärem Maß"
   ]
  },
  {
   "cell_type": "markdown",
   "id": "63e4e275",
   "metadata": {},
   "source": [
    "### Import der Methode und Datenaufbereitung"
   ]
  },
  {
   "cell_type": "code",
   "execution_count": 11,
   "id": "d2d79c25",
   "metadata": {},
   "outputs": [],
   "source": [
    "# The model quality evaluation function expects a Pandas dataframe with at least the following columns:\n",
    "# Request_Date          int64\n",
    "# flight_unique_id     object\n",
    "# Price               float64\n",
    "# buy                    bool\n",
    "\n",
    "def model_quality_evaluation(df):\n",
    "    # Make a copy of the provided dataframe as to not modify the original.\n",
    "    df = df.copy()\n",
    "\n",
    "    # Convert 'Price' to whole cents and store as integers to avoid floating point errors.\n",
    "    df['Price'] = df['Price'] * 100\n",
    "    df['Price'] = df['Price'].astype(int)\n",
    "\n",
    "    # Initialize a variable that stores the sum of all our balances.\n",
    "    sum_balances = 0\n",
    "\n",
    "    # Get a list of all 'flight_unique_id'.\n",
    "    flight_unique_ids = df['flight_unique_id'].unique()\n",
    "\n",
    "    # Iterate over all 'flight_unique_id'.\n",
    "    for flight_unique_id in flight_unique_ids:\n",
    "        # Get a subset of the data for the specified 'flight_unique_id'.\n",
    "        df_subset = df[df['flight_unique_id'] == flight_unique_id]\n",
    "\n",
    "        # Get all request dates except for the latest request date before departure.\n",
    "        # At the latest request date before departure we need to buy a ticket anyway,\n",
    "        # so we don't care about this specific request date.\n",
    "        request_dates = df_subset[df_subset['Request_Date'] != df_subset['Request_Date'].max()]\n",
    "\n",
    "        # Make sure request dates are sorted in descending order.\n",
    "        request_dates.sort_values(by='Request_Date', ascending=False, inplace=True)\n",
    "\n",
    "        # Get the ticket price from the latest request date before departure,\n",
    "        # because we certainly have to buy a ticket at this date.\n",
    "        last_buying_price = df_subset[df_subset['Request_Date'] == df_subset['Request_Date'].max()]['Price'].values[0]\n",
    "\n",
    "        # Iterate over the remaining request dates\n",
    "        for _, row in request_dates.iterrows():\n",
    "            # and check wether the model wants to buy a ticket at the specific request date.\n",
    "            if(row['buy'] == 1):\n",
    "                # If the model decides to buy a ticket the last buying price is set to the\n",
    "                # price point of this request date and the balance doesn't change.\n",
    "                last_buying_price = row['Price']\n",
    "            else:\n",
    "                # If the models decides to not buy a ticket the balance equals the\n",
    "                # the current ticket price minus the last buying price.\n",
    "                current_price = row['Price']\n",
    "                balance = current_price - last_buying_price\n",
    "\n",
    "                # The balance is added to the sum of all balances.\n",
    "                sum_balances = sum_balances + balance\n",
    "\n",
    "    # Return the sum of all our previously calculated balances.\n",
    "    return sum_balances / 100"
   ]
  },
  {
   "cell_type": "code",
   "execution_count": 12,
   "id": "48cb8c07",
   "metadata": {},
   "outputs": [
    {
     "data": {
      "text/plain": [
       "array([1., 1., 1., 1., 1., 1., 1., 1., 1., 1., 1., 1., 1., 1., 1., 1., 1.,\n",
       "       1., 1., 1., 1., 1., 1., 1., 1., 1., 1.])"
      ]
     },
     "execution_count": 12,
     "metadata": {},
     "output_type": "execute_result"
    }
   ],
   "source": [
    "X = customFeaturesDf.iloc[:,0:-1]\n",
    "y = customFeaturesDf.iloc[:,-1]\n",
    "scaler = StandardScaler(with_mean=False)\n",
    "\n",
    "# scale variance to 1\n",
    "scaler.fit(X)\n",
    "X_scaled = scaler.transform(X)\n",
    "X_scaled.std(axis=0)"
   ]
  },
  {
   "cell_type": "code",
   "execution_count": 13,
   "id": "1d0ce532",
   "metadata": {},
   "outputs": [
    {
     "data": {
      "text/plain": [
       "(83624, 2)"
      ]
     },
     "execution_count": 13,
     "metadata": {},
     "output_type": "execute_result"
    },
    {
     "data": {
      "image/png": "[encoded data removed]",
      "text/plain": [
       "<Figure size 576x396 with 1 Axes>"
      ]
     },
     "metadata": {},
     "output_type": "display_data"
    }
   ],
   "source": [
    "#Gesamten Daten auf PCA-18-Merkmale transformieren. Oben wurden nur TRainingsdaten transformiert (n=66.000)\n",
    "pca2 = PCA(n_components=0.95)\n",
    "pca2.fit(X_scaled)\n",
    "X_reduced=pca2.transform(X_scaled)\n",
    "X_reduced.shape"
   ]
  },
  {
   "cell_type": "markdown",
   "id": "54ca0e71",
   "metadata": {},
   "source": [
    "### Egentliche monetäre Bewertung"
   ]
  },
  {
   "cell_type": "code",
   "execution_count": 14,
   "id": "829f78b3",
   "metadata": {},
   "outputs": [
    {
     "name": "stderr",
     "output_type": "stream",
     "text": [
      "/tmp/ipykernel_10270/4028796872.py:32: SettingWithCopyWarning: \n",
      "A value is trying to be set on a copy of a slice from a DataFrame\n",
      "\n",
      "See the caveats in the documentation: https://pandas.pydata.org/pandas-docs/stable/user_guide/indexing.html#returning-a-view-versus-a-copy\n",
      "  request_dates.sort_values(by='Request_Date', ascending=False, inplace=True)\n",
      "/tmp/ipykernel_10270/4028796872.py:32: SettingWithCopyWarning: \n",
      "A value is trying to be set on a copy of a slice from a DataFrame\n",
      "\n",
      "See the caveats in the documentation: https://pandas.pydata.org/pandas-docs/stable/user_guide/indexing.html#returning-a-view-versus-a-copy\n",
      "  request_dates.sort_values(by='Request_Date', ascending=False, inplace=True)\n",
      "/tmp/ipykernel_10270/4028796872.py:32: SettingWithCopyWarning: \n",
      "A value is trying to be set on a copy of a slice from a DataFrame\n",
      "\n",
      "See the caveats in the documentation: https://pandas.pydata.org/pandas-docs/stable/user_guide/indexing.html#returning-a-view-versus-a-copy\n",
      "  request_dates.sort_values(by='Request_Date', ascending=False, inplace=True)\n",
      "/tmp/ipykernel_10270/4028796872.py:32: SettingWithCopyWarning: \n",
      "A value is trying to be set on a copy of a slice from a DataFrame\n",
      "\n",
      "See the caveats in the documentation: https://pandas.pydata.org/pandas-docs/stable/user_guide/indexing.html#returning-a-view-versus-a-copy\n",
      "  request_dates.sort_values(by='Request_Date', ascending=False, inplace=True)\n",
      "/tmp/ipykernel_10270/4028796872.py:32: SettingWithCopyWarning: \n",
      "A value is trying to be set on a copy of a slice from a DataFrame\n",
      "\n",
      "See the caveats in the documentation: https://pandas.pydata.org/pandas-docs/stable/user_guide/indexing.html#returning-a-view-versus-a-copy\n",
      "  request_dates.sort_values(by='Request_Date', ascending=False, inplace=True)\n"
     ]
    },
    {
     "name": "stdout",
     "output_type": "stream",
     "text": [
      "List of possible money scores: [-753056.47, -791532.89, -813918.41, -818616.64, -803948.02]\n",
      "\n",
      "Mean Money: -796214.486\n",
      "\n",
      "Standard Deviation is: 23493.08265481618\n"
     ]
    }
   ],
   "source": [
    "logReg_clf02 = LogisticRegression(random_state=42, solver=\"lbfgs\", max_iter=3000).fit(X_reduced, y)\n",
    "\n",
    "# Create StratifiedKFold object.\n",
    "skf = StratifiedKFold(n_splits=5, shuffle=True, random_state=42)\n",
    "money_scores = []\n",
    "\n",
    "# for each fold create a dataframe\n",
    "for train_index, test_index in skf.split(X_reduced, y): # split() return index of each fold\n",
    "\t# get each fold train, test fold with index index \n",
    "\tx_train_fold, x_test_fold = X_reduced[train_index], X_reduced[test_index]\n",
    "\ty_train_fold, y_test_fold = y[train_index], y[test_index]\n",
    "\tlogReg_clf02.fit(x_train_fold, y_train_fold)\n",
    "\ty_pred = logReg_clf02.predict(x_test_fold)\n",
    "\t\n",
    "\t# make test df to evaluate\n",
    "\tX_train_1 = train_set_orig.loc[test_index]\n",
    "\tdf = pd.DataFrame(x_test_fold, index=test_index)\n",
    "\tdf[\"buy\"] = y_pred\n",
    "\tdf[\"flight_unique_id\"] = X_train_1[\"flight_unique_id\"]\n",
    "\tdf[\"Request_Date\"] = X_train_1[\"Request_Date\"]\n",
    "\tdf[\"Price\"] = X_train_1[\"Price_In_Eur\"]\n",
    " \n",
    "\t# eval with custom func and append\n",
    "\tscore = model_quality_evaluation(df)\n",
    "\tmoney_scores.append(score)\n",
    "\n",
    "\n",
    "# Print the output.\n",
    "print('List of possible money scores:', money_scores)\n",
    "print('\\nMean Money:',\n",
    "\tnp.mean(money_scores))\n",
    "print('\\nStandard Deviation is:', np.std(money_scores))"
   ]
  },
  {
   "cell_type": "markdown",
   "id": "d14fd958",
   "metadata": {},
   "source": [
    "## Verbesserung des Ergebnisses des monetären Maßes\n",
    "### Verschiebung des Threshold (Grenzwert der Entscheidungsfunktion)\n",
    "Def.: True Positive (TP-Werte) sind laut der Darstellung der Konfusionsmatrix in Python die korrekten 'Wait'-Modellentscheidungen. Demnach ergeben sich:\n",
    "- TP ... korrekte 'Wait'-Entscheidungen,\n",
    "- TN ... korrekte 'bait'-Entscheidungen,\n",
    "- FP ... falsche 'Wait'-Entscheidungen, d.h. es hätte gekauft werden müssen\n",
    "- FN ... falsche 'bait'-Entscheidungen, d.h. man hätte noch warten sollen.\n",
    "    \n",
    "Das monetäre Gütemaß begünstigt falsche 'Bait' - Entscheidungen, weil hierbei keine negativen Kostenwerte entstehen. Durch -im Zweifel- falsche Kaufempfehlungen lassen sich also Verluste vermeiden.\n",
    "\n",
    "Hingegen führen falsche 'Wait'-Entscheidungen immer zu Verlusten. Ziel muss es also sein, möglichst keine falschen 'Wait'-Entscheidungen zu erhalten. Sollte hingegen eine falsche 'Bait'-Empfehlung ausgesprochen werden, so verursacht dies keine Kosten. Falsche 'Wait'-Entscheidungen (FN) mmüssen minimiert werden. Wir versuchen also, ein möglichst hohen Recall (TP/(TP+FN))zu erzielen. Dies kann durch ein Verschieben des Threshold-Wertes erreicht werden.\n",
    "\n",
    "### Precission-Recall-Kurve"
   ]
  },
  {
   "cell_type": "code",
   "execution_count": 15,
   "id": "6dcb6417",
   "metadata": {},
   "outputs": [
    {
     "data": {
      "image/png": "[encoded data removed]",
      "text/plain": [
       "<Figure size 576x396 with 1 Axes>"
      ]
     },
     "metadata": {},
     "output_type": "display_data"
    }
   ],
   "source": [
    "#CM-Vorbereitung: Vorhersage der Ergebnisse\n",
    "from sklearn.model_selection import cross_val_predict\n",
    "from sklearn.metrics import precision_recall_curve\n",
    "\n",
    "y_train_pred_PR_Curve = cross_val_predict(logReg_clf02, X_reduced, y, cv=3, method=\"decision_function\")\n",
    "\n",
    "precisions, recalls, thresholds = precision_recall_curve(y, y_train_pred_PR_Curve)\n",
    "\n",
    "fig = plt.figure()\n",
    "ax = fig.add_subplot(1, 1, 1)\n",
    "\n",
    "\n",
    "ax.set(xlim=(0, 1), xticks=(0, 0.25,0.5, 0.75,1),\n",
    "       ylim=(0.2, 0.4), yticks=(0.2, 0.3, 0.4))\n",
    "\n",
    "ax.plot(recalls[:-1], precisions[:-1], \"b--\", label=\"y-Precisions\")\n",
    "ax.set_title('Precision (y) against Recall (x)')\n",
    "plt.show()\n",
    "\n"
   ]
  },
  {
   "cell_type": "code",
   "execution_count": 16,
   "id": "507bbaa8",
   "metadata": {},
   "outputs": [
    {
     "data": {
      "image/png": "[encoded data removed]",
      "text/plain": [
       "<Figure size 576x396 with 1 Axes>"
      ]
     },
     "metadata": {},
     "output_type": "display_data"
    }
   ],
   "source": [
    "def plot_precision_recall_vs_threshold(precisions, recalls, thresholds):\n",
    "    plt.plot(thresholds, precisions[:-1], \"b--\", label=\"Precisions\")\n",
    "    plt.plot(thresholds, recalls[:-1], \"g--\", label=\"Recalls\")\n",
    " #   plt.axvline(x=-2165, ymin=0.01, color='red', linewidth=1)\n",
    "plot_precision_recall_vs_threshold(precisions, recalls, thresholds)\n",
    "plt.show()"
   ]
  },
  {
   "cell_type": "markdown",
   "id": "4af36dd8",
   "metadata": {},
   "source": [
    "### Einen konkreten Grenzwert erreichen\n",
    "\n",
    "Um z.B. einen 95%-igen Recall zu erreichen,\n",
    "\n",
    "    Ziel: R=>95%\n",
    "\n",
    "muss ein passender Grenzwert der Entscheidungsfunktion gewählt werden. Konkret wird nach dem niedrigsten Grenzwert ('threshold', mit der Methode np.argmax()) gesucht, der eine 95%ige Recall garantiert:\n"
   ]
  },
  {
   "cell_type": "code",
   "execution_count": 22,
   "id": "a870387a",
   "metadata": {},
   "outputs": [
    {
     "name": "stdout",
     "output_type": "stream",
     "text": [
      "Grenzwert, ab dem in -wait- klassifiziert wird....\n",
      " -2.3818619657861557\n"
     ]
    }
   ],
   "source": [
    "# argmin() ... returns the indices of the minimum value along an axis.\n",
    "\n",
    "threshold_95_recall = thresholds[np.argmin(recalls >= 0.997)] \n",
    "print(\"Grenzwert, ab dem in -wait- klassifiziert wird....\\n\",threshold_95_recall)"
   ]
  },
  {
   "cell_type": "markdown",
   "id": "d163faff",
   "metadata": {},
   "source": [
    "Um mit diesem Grenzwert Vorhersagen (zunächst nur) auf dem Trainingsset zu treffen, kann auch -anstelle des Classifiers- die *predict()*-Methode gewählt werden:"
   ]
  },
  {
   "cell_type": "code",
   "execution_count": 18,
   "id": "2ea5d1ff",
   "metadata": {},
   "outputs": [
    {
     "name": "stdout",
     "output_type": "stream",
     "text": [
      "Y-scores sind... [ 1.98866657  2.47098542  2.18672854 ... -1.38758421 -1.58913916\n",
      " -1.27726853]\n",
      "Anzahl der Y-Scores... 83624\n"
     ]
    },
    {
     "data": {
      "text/plain": [
       "array([ True,  True,  True, ...,  True,  True,  True])"
      ]
     },
     "execution_count": 18,
     "metadata": {},
     "output_type": "execute_result"
    }
   ],
   "source": [
    "# y_scores sind die alle Ergebniswerte der Entscheidungsfunktion für jeden DS, hier nur für alle Werte,\n",
    "# die über dem gewünschten Grenzwert liegen\n",
    "#D.h. das sind die Labelwerte, mit denen eine Precision von 90% erreicht wird\n",
    "print(\"Y-scores sind...\", y_train_pred_PR_Curve)\n",
    "y_train_pred_95 = (y_train_pred_PR_Curve >= threshold_95_recall)\n",
    "print(\"Anzahl der Y-Scores...\",len(y_train_pred_95))\n",
    "y_train_pred_95"
   ]
  },
  {
   "cell_type": "code",
   "execution_count": 19,
   "id": "fbc4f0d5",
   "metadata": {},
   "outputs": [
    {
     "name": "stdout",
     "output_type": "stream",
     "text": [
      "Recall is ... 0.9969548028635538\n",
      "Precision is ... 0.22371007960103578\n"
     ]
    }
   ],
   "source": [
    "#precision_score, recall_score\n",
    "from sklearn.metrics import precision_score, recall_score\n",
    "\n",
    "print(\"Recall is ...\",recall_score(y, y_train_pred_95))\n",
    "print(\"Precision is ...\", precision_score(y, y_train_pred_95))\n"
   ]
  },
  {
   "cell_type": "code",
   "execution_count": 20,
   "id": "9acf95bc",
   "metadata": {},
   "outputs": [
    {
     "data": {
      "text/plain": [
       "array([[  151, 64755],\n",
       "       [   57, 18661]])"
      ]
     },
     "execution_count": 20,
     "metadata": {},
     "output_type": "execute_result"
    }
   ],
   "source": [
    "#CM\n",
    "from sklearn.metrics import confusion_matrix\n",
    "\n",
    "confusion_matrix(y,y_train_pred_95)"
   ]
  },
  {
   "cell_type": "markdown",
   "id": "68392c0f",
   "metadata": {},
   "source": [
    "## Erneute Bewertung: Monetäres Maß mit neuem Threshold"
   ]
  },
  {
   "cell_type": "code",
   "execution_count": 21,
   "id": "77d03729",
   "metadata": {},
   "outputs": [
    {
     "name": "stderr",
     "output_type": "stream",
     "text": [
      "/tmp/ipykernel_10270/4028796872.py:32: SettingWithCopyWarning: \n",
      "A value is trying to be set on a copy of a slice from a DataFrame\n",
      "\n",
      "See the caveats in the documentation: https://pandas.pydata.org/pandas-docs/stable/user_guide/indexing.html#returning-a-view-versus-a-copy\n",
      "  request_dates.sort_values(by='Request_Date', ascending=False, inplace=True)\n",
      "/tmp/ipykernel_10270/4028796872.py:32: SettingWithCopyWarning: \n",
      "A value is trying to be set on a copy of a slice from a DataFrame\n",
      "\n",
      "See the caveats in the documentation: https://pandas.pydata.org/pandas-docs/stable/user_guide/indexing.html#returning-a-view-versus-a-copy\n",
      "  request_dates.sort_values(by='Request_Date', ascending=False, inplace=True)\n",
      "/tmp/ipykernel_10270/4028796872.py:32: SettingWithCopyWarning: \n",
      "A value is trying to be set on a copy of a slice from a DataFrame\n",
      "\n",
      "See the caveats in the documentation: https://pandas.pydata.org/pandas-docs/stable/user_guide/indexing.html#returning-a-view-versus-a-copy\n",
      "  request_dates.sort_values(by='Request_Date', ascending=False, inplace=True)\n",
      "/tmp/ipykernel_10270/4028796872.py:32: SettingWithCopyWarning: \n",
      "A value is trying to be set on a copy of a slice from a DataFrame\n",
      "\n",
      "See the caveats in the documentation: https://pandas.pydata.org/pandas-docs/stable/user_guide/indexing.html#returning-a-view-versus-a-copy\n",
      "  request_dates.sort_values(by='Request_Date', ascending=False, inplace=True)\n",
      "/tmp/ipykernel_10270/4028796872.py:32: SettingWithCopyWarning: \n",
      "A value is trying to be set on a copy of a slice from a DataFrame\n",
      "\n",
      "See the caveats in the documentation: https://pandas.pydata.org/pandas-docs/stable/user_guide/indexing.html#returning-a-view-versus-a-copy\n",
      "  request_dates.sort_values(by='Request_Date', ascending=False, inplace=True)\n"
     ]
    },
    {
     "name": "stdout",
     "output_type": "stream",
     "text": [
      "List of possible money scores: [6.42, -9.17, 17.86, 51.65, -66.61]\n",
      "\n",
      "Mean Money: 0.029999999999998295\n",
      "\n",
      "Standard Deviation is: 38.855874716701464\n"
     ]
    }
   ],
   "source": [
    "logReg_clf03 = LogisticRegression(random_state=42, solver=\"lbfgs\", max_iter=3000).fit(X_reduced, y_train_pred_95)\n",
    "\n",
    "\n",
    "# Create StratifiedKFold object.\n",
    "skf = StratifiedKFold(n_splits=5, shuffle=True, random_state=42)\n",
    "money_scores = []\n",
    "\n",
    "# for each fold create a dataframe\n",
    "for train_index, test_index in skf.split(X_reduced, y_train_pred_95): # hier neue Vorhersagen einfügen\n",
    "\t# get each fold train, test fold with index index \n",
    "\tx_train_fold, x_test_fold = X_reduced[train_index], X_reduced[test_index]\n",
    "\ty_train_fold, y_test_fold = y_train_pred_95[train_index], y_train_pred_95[test_index]\n",
    "\tlogReg_clf03.fit(x_train_fold, y_train_fold)\n",
    "\ty_pred = logReg_clf03.predict(x_test_fold)\n",
    "\t\n",
    "\t# make test df to evaluate\n",
    "\tX_train_1 = train_set_orig.loc[test_index]\n",
    "\tdf = pd.DataFrame(x_test_fold, index=test_index)\n",
    "\tdf[\"buy\"] = y_pred\n",
    "\tdf[\"flight_unique_id\"] = X_train_1[\"flight_unique_id\"]\n",
    "\tdf[\"Request_Date\"] = X_train_1[\"Request_Date\"]\n",
    "\tdf[\"Price\"] = X_train_1[\"Price_In_Eur\"]\n",
    " \n",
    "\t# eval with custom func and append\n",
    "\tscore = model_quality_evaluation(df)\n",
    "\tmoney_scores.append(score)\n",
    "\n",
    "\n",
    "# Print the output.\n",
    "print('List of possible money scores:', money_scores)\n",
    "print('\\nMean Money:',\n",
    "\tnp.mean(money_scores))\n",
    "print('\\nStandard Deviation is:', np.std(money_scores))"
   ]
  }
 ],
 "metadata": {
  "kernelspec": {
   "display_name": "Python 3 (ipykernel)",
   "language": "python",
   "name": "python3"
  },
  "language_info": {
   "codemirror_mode": {
    "name": "ipython",
    "version": 3
   },
   "file_extension": ".py",
   "mimetype": "text/x-python",
   "name": "python",
   "nbconvert_exporter": "python",
   "pygments_lexer": "ipython3",
   "version": "3.8.10"
  },
  "toc": {
   "base_numbering": 1,
   "nav_menu": {},
   "number_sections": true,
   "sideBar": true,
   "skip_h1_title": false,
   "title_cell": "Table of Contents",
   "title_sidebar": "Inhaltsverzeichnis LogRegression",
   "toc_cell": false,
   "toc_position": {
    "height": "calc(100% - 180px)",
    "left": "10px",
    "top": "150px",
    "width": "295.667px"
   },
   "toc_section_display": true,
   "toc_window_display": true
  }
 },
 "nbformat": 4,
 "nbformat_minor": 5
}
